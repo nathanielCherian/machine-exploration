{
 "cells": [
  {
   "cell_type": "code",
   "execution_count": 76,
   "metadata": {},
   "outputs": [],
   "source": [
    "import pandas as pd\n",
    "import numpy as np\n",
    "\n",
    "feature_names =  ['Bi-Rads', 'Age', 'Shape', 'Margin', 'Density', 'Severity']\n",
    "\n",
    "tumor_data = pd.read_csv('MLCourse/mammographic_masses.data.txt', na_values=['?'], \n",
    "                          names = feature_names)"
   ]
  },
  {
   "cell_type": "markdown",
   "metadata": {},
   "source": [
    "7. Attribute Information:\n",
    "   1. BI-RADS assessment: 1 to 5 (ordinal)  \n",
    "   2. Age: patient's age in years (integer)\n",
    "   3. Shape: mass shape: round=1 oval=2 lobular=3 irregular=4 (nominal)\n",
    "   4. Margin: mass margin: circumscribed=1 microlobulated=2 obscured=3 ill-defined=4 spiculated=5 (nominal)\n",
    "   5. Density: mass density high=1 iso=2 low=3 fat-containing=4 (ordinal)\n",
    "   6. Severity: benign=0 or malignant=1 (binominal)"
   ]
  },
  {
   "cell_type": "code",
   "execution_count": 77,
   "metadata": {},
   "outputs": [
    {
     "data": {
      "text/html": [
       "<div>\n",
       "<style scoped>\n",
       "    .dataframe tbody tr th:only-of-type {\n",
       "        vertical-align: middle;\n",
       "    }\n",
       "\n",
       "    .dataframe tbody tr th {\n",
       "        vertical-align: top;\n",
       "    }\n",
       "\n",
       "    .dataframe thead th {\n",
       "        text-align: right;\n",
       "    }\n",
       "</style>\n",
       "<table border=\"1\" class=\"dataframe\">\n",
       "  <thead>\n",
       "    <tr style=\"text-align: right;\">\n",
       "      <th></th>\n",
       "      <th>Bi-Rads</th>\n",
       "      <th>Age</th>\n",
       "      <th>Shape</th>\n",
       "      <th>Margin</th>\n",
       "      <th>Density</th>\n",
       "      <th>Severity</th>\n",
       "    </tr>\n",
       "  </thead>\n",
       "  <tbody>\n",
       "    <tr>\n",
       "      <th>0</th>\n",
       "      <td>5.0</td>\n",
       "      <td>67.0</td>\n",
       "      <td>3.0</td>\n",
       "      <td>5.0</td>\n",
       "      <td>3.0</td>\n",
       "      <td>1</td>\n",
       "    </tr>\n",
       "    <tr>\n",
       "      <th>1</th>\n",
       "      <td>4.0</td>\n",
       "      <td>43.0</td>\n",
       "      <td>1.0</td>\n",
       "      <td>1.0</td>\n",
       "      <td>NaN</td>\n",
       "      <td>1</td>\n",
       "    </tr>\n",
       "    <tr>\n",
       "      <th>2</th>\n",
       "      <td>5.0</td>\n",
       "      <td>58.0</td>\n",
       "      <td>4.0</td>\n",
       "      <td>5.0</td>\n",
       "      <td>3.0</td>\n",
       "      <td>1</td>\n",
       "    </tr>\n",
       "    <tr>\n",
       "      <th>3</th>\n",
       "      <td>4.0</td>\n",
       "      <td>28.0</td>\n",
       "      <td>1.0</td>\n",
       "      <td>1.0</td>\n",
       "      <td>3.0</td>\n",
       "      <td>0</td>\n",
       "    </tr>\n",
       "    <tr>\n",
       "      <th>4</th>\n",
       "      <td>5.0</td>\n",
       "      <td>74.0</td>\n",
       "      <td>1.0</td>\n",
       "      <td>5.0</td>\n",
       "      <td>NaN</td>\n",
       "      <td>1</td>\n",
       "    </tr>\n",
       "  </tbody>\n",
       "</table>\n",
       "</div>"
      ],
      "text/plain": [
       "   Bi-Rads   Age  Shape  Margin  Density  Severity\n",
       "0      5.0  67.0    3.0     5.0      3.0         1\n",
       "1      4.0  43.0    1.0     1.0      NaN         1\n",
       "2      5.0  58.0    4.0     5.0      3.0         1\n",
       "3      4.0  28.0    1.0     1.0      3.0         0\n",
       "4      5.0  74.0    1.0     5.0      NaN         1"
      ]
     },
     "execution_count": 77,
     "metadata": {},
     "output_type": "execute_result"
    }
   ],
   "source": [
    "tumor_data.head()"
   ]
  },
  {
   "cell_type": "code",
   "execution_count": 78,
   "metadata": {},
   "outputs": [
    {
     "data": {
      "text/html": [
       "<div>\n",
       "<style scoped>\n",
       "    .dataframe tbody tr th:only-of-type {\n",
       "        vertical-align: middle;\n",
       "    }\n",
       "\n",
       "    .dataframe tbody tr th {\n",
       "        vertical-align: top;\n",
       "    }\n",
       "\n",
       "    .dataframe thead th {\n",
       "        text-align: right;\n",
       "    }\n",
       "</style>\n",
       "<table border=\"1\" class=\"dataframe\">\n",
       "  <thead>\n",
       "    <tr style=\"text-align: right;\">\n",
       "      <th></th>\n",
       "      <th>Bi-Rads</th>\n",
       "      <th>Age</th>\n",
       "      <th>Shape</th>\n",
       "      <th>Margin</th>\n",
       "      <th>Density</th>\n",
       "      <th>Severity</th>\n",
       "    </tr>\n",
       "  </thead>\n",
       "  <tbody>\n",
       "    <tr>\n",
       "      <th>count</th>\n",
       "      <td>959.000000</td>\n",
       "      <td>956.000000</td>\n",
       "      <td>930.000000</td>\n",
       "      <td>913.000000</td>\n",
       "      <td>885.000000</td>\n",
       "      <td>961.000000</td>\n",
       "    </tr>\n",
       "    <tr>\n",
       "      <th>mean</th>\n",
       "      <td>4.348279</td>\n",
       "      <td>55.487448</td>\n",
       "      <td>2.721505</td>\n",
       "      <td>2.796276</td>\n",
       "      <td>2.910734</td>\n",
       "      <td>0.463059</td>\n",
       "    </tr>\n",
       "    <tr>\n",
       "      <th>std</th>\n",
       "      <td>1.783031</td>\n",
       "      <td>14.480131</td>\n",
       "      <td>1.242792</td>\n",
       "      <td>1.566546</td>\n",
       "      <td>0.380444</td>\n",
       "      <td>0.498893</td>\n",
       "    </tr>\n",
       "    <tr>\n",
       "      <th>min</th>\n",
       "      <td>0.000000</td>\n",
       "      <td>18.000000</td>\n",
       "      <td>1.000000</td>\n",
       "      <td>1.000000</td>\n",
       "      <td>1.000000</td>\n",
       "      <td>0.000000</td>\n",
       "    </tr>\n",
       "    <tr>\n",
       "      <th>25%</th>\n",
       "      <td>4.000000</td>\n",
       "      <td>45.000000</td>\n",
       "      <td>2.000000</td>\n",
       "      <td>1.000000</td>\n",
       "      <td>3.000000</td>\n",
       "      <td>0.000000</td>\n",
       "    </tr>\n",
       "    <tr>\n",
       "      <th>50%</th>\n",
       "      <td>4.000000</td>\n",
       "      <td>57.000000</td>\n",
       "      <td>3.000000</td>\n",
       "      <td>3.000000</td>\n",
       "      <td>3.000000</td>\n",
       "      <td>0.000000</td>\n",
       "    </tr>\n",
       "    <tr>\n",
       "      <th>75%</th>\n",
       "      <td>5.000000</td>\n",
       "      <td>66.000000</td>\n",
       "      <td>4.000000</td>\n",
       "      <td>4.000000</td>\n",
       "      <td>3.000000</td>\n",
       "      <td>1.000000</td>\n",
       "    </tr>\n",
       "    <tr>\n",
       "      <th>max</th>\n",
       "      <td>55.000000</td>\n",
       "      <td>96.000000</td>\n",
       "      <td>4.000000</td>\n",
       "      <td>5.000000</td>\n",
       "      <td>4.000000</td>\n",
       "      <td>1.000000</td>\n",
       "    </tr>\n",
       "  </tbody>\n",
       "</table>\n",
       "</div>"
      ],
      "text/plain": [
       "          Bi-Rads         Age       Shape      Margin     Density    Severity\n",
       "count  959.000000  956.000000  930.000000  913.000000  885.000000  961.000000\n",
       "mean     4.348279   55.487448    2.721505    2.796276    2.910734    0.463059\n",
       "std      1.783031   14.480131    1.242792    1.566546    0.380444    0.498893\n",
       "min      0.000000   18.000000    1.000000    1.000000    1.000000    0.000000\n",
       "25%      4.000000   45.000000    2.000000    1.000000    3.000000    0.000000\n",
       "50%      4.000000   57.000000    3.000000    3.000000    3.000000    0.000000\n",
       "75%      5.000000   66.000000    4.000000    4.000000    3.000000    1.000000\n",
       "max     55.000000   96.000000    4.000000    5.000000    4.000000    1.000000"
      ]
     },
     "execution_count": 78,
     "metadata": {},
     "output_type": "execute_result"
    }
   ],
   "source": [
    "tumor_data.describe()"
   ]
  },
  {
   "cell_type": "code",
   "execution_count": 79,
   "metadata": {},
   "outputs": [],
   "source": [
    "dropped_rows = tumor_data.dropna()"
   ]
  },
  {
   "cell_type": "code",
   "execution_count": 80,
   "metadata": {},
   "outputs": [
    {
     "data": {
      "text/html": [
       "<div>\n",
       "<style scoped>\n",
       "    .dataframe tbody tr th:only-of-type {\n",
       "        vertical-align: middle;\n",
       "    }\n",
       "\n",
       "    .dataframe tbody tr th {\n",
       "        vertical-align: top;\n",
       "    }\n",
       "\n",
       "    .dataframe thead th {\n",
       "        text-align: right;\n",
       "    }\n",
       "</style>\n",
       "<table border=\"1\" class=\"dataframe\">\n",
       "  <thead>\n",
       "    <tr style=\"text-align: right;\">\n",
       "      <th></th>\n",
       "      <th>Bi-Rads</th>\n",
       "      <th>Age</th>\n",
       "      <th>Shape</th>\n",
       "      <th>Margin</th>\n",
       "      <th>Density</th>\n",
       "      <th>Severity</th>\n",
       "    </tr>\n",
       "  </thead>\n",
       "  <tbody>\n",
       "    <tr>\n",
       "      <th>count</th>\n",
       "      <td>830.000000</td>\n",
       "      <td>830.000000</td>\n",
       "      <td>830.000000</td>\n",
       "      <td>830.000000</td>\n",
       "      <td>830.000000</td>\n",
       "      <td>830.000000</td>\n",
       "    </tr>\n",
       "    <tr>\n",
       "      <th>mean</th>\n",
       "      <td>4.393976</td>\n",
       "      <td>55.781928</td>\n",
       "      <td>2.781928</td>\n",
       "      <td>2.813253</td>\n",
       "      <td>2.915663</td>\n",
       "      <td>0.485542</td>\n",
       "    </tr>\n",
       "    <tr>\n",
       "      <th>std</th>\n",
       "      <td>1.888371</td>\n",
       "      <td>14.671782</td>\n",
       "      <td>1.242361</td>\n",
       "      <td>1.567175</td>\n",
       "      <td>0.350936</td>\n",
       "      <td>0.500092</td>\n",
       "    </tr>\n",
       "    <tr>\n",
       "      <th>min</th>\n",
       "      <td>0.000000</td>\n",
       "      <td>18.000000</td>\n",
       "      <td>1.000000</td>\n",
       "      <td>1.000000</td>\n",
       "      <td>1.000000</td>\n",
       "      <td>0.000000</td>\n",
       "    </tr>\n",
       "    <tr>\n",
       "      <th>25%</th>\n",
       "      <td>4.000000</td>\n",
       "      <td>46.000000</td>\n",
       "      <td>2.000000</td>\n",
       "      <td>1.000000</td>\n",
       "      <td>3.000000</td>\n",
       "      <td>0.000000</td>\n",
       "    </tr>\n",
       "    <tr>\n",
       "      <th>50%</th>\n",
       "      <td>4.000000</td>\n",
       "      <td>57.000000</td>\n",
       "      <td>3.000000</td>\n",
       "      <td>3.000000</td>\n",
       "      <td>3.000000</td>\n",
       "      <td>0.000000</td>\n",
       "    </tr>\n",
       "    <tr>\n",
       "      <th>75%</th>\n",
       "      <td>5.000000</td>\n",
       "      <td>66.000000</td>\n",
       "      <td>4.000000</td>\n",
       "      <td>4.000000</td>\n",
       "      <td>3.000000</td>\n",
       "      <td>1.000000</td>\n",
       "    </tr>\n",
       "    <tr>\n",
       "      <th>max</th>\n",
       "      <td>55.000000</td>\n",
       "      <td>96.000000</td>\n",
       "      <td>4.000000</td>\n",
       "      <td>5.000000</td>\n",
       "      <td>4.000000</td>\n",
       "      <td>1.000000</td>\n",
       "    </tr>\n",
       "  </tbody>\n",
       "</table>\n",
       "</div>"
      ],
      "text/plain": [
       "          Bi-Rads         Age       Shape      Margin     Density    Severity\n",
       "count  830.000000  830.000000  830.000000  830.000000  830.000000  830.000000\n",
       "mean     4.393976   55.781928    2.781928    2.813253    2.915663    0.485542\n",
       "std      1.888371   14.671782    1.242361    1.567175    0.350936    0.500092\n",
       "min      0.000000   18.000000    1.000000    1.000000    1.000000    0.000000\n",
       "25%      4.000000   46.000000    2.000000    1.000000    3.000000    0.000000\n",
       "50%      4.000000   57.000000    3.000000    3.000000    3.000000    0.000000\n",
       "75%      5.000000   66.000000    4.000000    4.000000    3.000000    1.000000\n",
       "max     55.000000   96.000000    4.000000    5.000000    4.000000    1.000000"
      ]
     },
     "execution_count": 80,
     "metadata": {},
     "output_type": "execute_result"
    }
   ],
   "source": [
    "dropped_rows.describe()"
   ]
  },
  {
   "cell_type": "code",
   "execution_count": 81,
   "metadata": {},
   "outputs": [],
   "source": [
    "from sklearn.model_selection import train_test_split\n",
    "from sklearn.preprocessing import StandardScaler\n",
    "\n",
    "\n",
    "\n",
    "features = dropped_rows[feature_names].drop(['Severity', 'Bi-Rads'], axis=1).values\n",
    "\n",
    "scaler = StandardScaler()\n",
    "features = scaler.fit_transform(features)\n",
    "\n",
    "labels = dropped_rows['Severity']\n",
    "X_train, X_test, y_train, y_test = train_test_split(features, labels, test_size=0.2, random_state=420)\n"
   ]
  },
  {
   "cell_type": "code",
   "execution_count": 82,
   "metadata": {},
   "outputs": [
    {
     "data": {
      "text/plain": [
       "array([[-0.46252165,  0.98104077,  0.75770912,  0.24046607],\n",
       "       [-1.07631393, -1.43517241,  0.75770912,  0.24046607],\n",
       "       [ 0.56046548,  0.98104077,  0.75770912, -2.6107745 ],\n",
       "       ...,\n",
       "       [-0.66711907,  0.98104077,  0.75770912, -2.6107745 ],\n",
       "       [-0.59891993,  0.98104077,  1.39618483,  0.24046607],\n",
       "       [-1.55370792,  0.98104077,  0.75770912,  0.24046607]])"
      ]
     },
     "execution_count": 82,
     "metadata": {},
     "output_type": "execute_result"
    }
   ],
   "source": [
    "X_train"
   ]
  },
  {
   "cell_type": "code",
   "execution_count": 83,
   "metadata": {},
   "outputs": [
    {
     "data": {
      "text/html": [
       "<div>\n",
       "<style scoped>\n",
       "    .dataframe tbody tr th:only-of-type {\n",
       "        vertical-align: middle;\n",
       "    }\n",
       "\n",
       "    .dataframe tbody tr th {\n",
       "        vertical-align: top;\n",
       "    }\n",
       "\n",
       "    .dataframe thead th {\n",
       "        text-align: right;\n",
       "    }\n",
       "</style>\n",
       "<table border=\"1\" class=\"dataframe\">\n",
       "  <thead>\n",
       "    <tr style=\"text-align: right;\">\n",
       "      <th></th>\n",
       "      <th>Bi-Rads</th>\n",
       "      <th>Age</th>\n",
       "      <th>Shape</th>\n",
       "      <th>Margin</th>\n",
       "      <th>Density</th>\n",
       "      <th>Severity</th>\n",
       "    </tr>\n",
       "  </thead>\n",
       "  <tbody>\n",
       "    <tr>\n",
       "      <th>Bi-Rads</th>\n",
       "      <td>1.000000</td>\n",
       "      <td>0.094623</td>\n",
       "      <td>0.180120</td>\n",
       "      <td>0.157771</td>\n",
       "      <td>0.028356</td>\n",
       "      <td>0.223826</td>\n",
       "    </tr>\n",
       "    <tr>\n",
       "      <th>Age</th>\n",
       "      <td>0.094623</td>\n",
       "      <td>1.000000</td>\n",
       "      <td>0.380096</td>\n",
       "      <td>0.420913</td>\n",
       "      <td>0.052417</td>\n",
       "      <td>0.455216</td>\n",
       "    </tr>\n",
       "    <tr>\n",
       "      <th>Shape</th>\n",
       "      <td>0.180120</td>\n",
       "      <td>0.380096</td>\n",
       "      <td>1.000000</td>\n",
       "      <td>0.738014</td>\n",
       "      <td>0.073969</td>\n",
       "      <td>0.564763</td>\n",
       "    </tr>\n",
       "    <tr>\n",
       "      <th>Margin</th>\n",
       "      <td>0.157771</td>\n",
       "      <td>0.420913</td>\n",
       "      <td>0.738014</td>\n",
       "      <td>1.000000</td>\n",
       "      <td>0.124860</td>\n",
       "      <td>0.574498</td>\n",
       "    </tr>\n",
       "    <tr>\n",
       "      <th>Density</th>\n",
       "      <td>0.028356</td>\n",
       "      <td>0.052417</td>\n",
       "      <td>0.073969</td>\n",
       "      <td>0.124860</td>\n",
       "      <td>1.000000</td>\n",
       "      <td>0.068651</td>\n",
       "    </tr>\n",
       "    <tr>\n",
       "      <th>Severity</th>\n",
       "      <td>0.223826</td>\n",
       "      <td>0.455216</td>\n",
       "      <td>0.564763</td>\n",
       "      <td>0.574498</td>\n",
       "      <td>0.068651</td>\n",
       "      <td>1.000000</td>\n",
       "    </tr>\n",
       "  </tbody>\n",
       "</table>\n",
       "</div>"
      ],
      "text/plain": [
       "           Bi-Rads       Age     Shape    Margin   Density  Severity\n",
       "Bi-Rads   1.000000  0.094623  0.180120  0.157771  0.028356  0.223826\n",
       "Age       0.094623  1.000000  0.380096  0.420913  0.052417  0.455216\n",
       "Shape     0.180120  0.380096  1.000000  0.738014  0.073969  0.564763\n",
       "Margin    0.157771  0.420913  0.738014  1.000000  0.124860  0.574498\n",
       "Density   0.028356  0.052417  0.073969  0.124860  1.000000  0.068651\n",
       "Severity  0.223826  0.455216  0.564763  0.574498  0.068651  1.000000"
      ]
     },
     "execution_count": 83,
     "metadata": {},
     "output_type": "execute_result"
    }
   ],
   "source": [
    "dropped_rows.corr()"
   ]
  },
  {
   "cell_type": "markdown",
   "metadata": {},
   "source": [
    "# Cross-Val setup"
   ]
  },
  {
   "cell_type": "code",
   "execution_count": 111,
   "metadata": {},
   "outputs": [],
   "source": [
    "from sklearn.model_selection import cross_val_score\n",
    "\n",
    "scores = {}\n",
    "\n",
    "def cross_eval(clf, model_name):\n",
    "    scores.update({model_name : cross_val_score(clf, X_train, y_train, cv=10)})\n",
    "    return (scores[model_name].mean())"
   ]
  },
  {
   "cell_type": "markdown",
   "metadata": {},
   "source": [
    "# Decision Trees"
   ]
  },
  {
   "cell_type": "code",
   "execution_count": 112,
   "metadata": {},
   "outputs": [
    {
     "data": {
      "text/plain": [
       "DecisionTreeClassifier(ccp_alpha=0.0, class_weight=None, criterion='gini',\n",
       "                       max_depth=None, max_features=None, max_leaf_nodes=None,\n",
       "                       min_impurity_decrease=0.0, min_impurity_split=None,\n",
       "                       min_samples_leaf=1, min_samples_split=2,\n",
       "                       min_weight_fraction_leaf=0.0, presort='deprecated',\n",
       "                       random_state=None, splitter='best')"
      ]
     },
     "execution_count": 112,
     "metadata": {},
     "output_type": "execute_result"
    }
   ],
   "source": [
    "from sklearn.tree import DecisionTreeClassifier, export_graphviz\n",
    "\n",
    "dt_clf = DecisionTreeClassifier()\n",
    "dt_clf.fit(X_train, y_train)"
   ]
  },
  {
   "cell_type": "code",
   "execution_count": 113,
   "metadata": {},
   "outputs": [
    {
     "data": {
      "text/plain": [
       "0.7393260967887834"
      ]
     },
     "execution_count": 113,
     "metadata": {},
     "output_type": "execute_result"
    }
   ],
   "source": [
    "cross_eval(dt_clf, 'decision_tree')"
   ]
  },
  {
   "cell_type": "markdown",
   "metadata": {},
   "source": [
    "# Random Forest"
   ]
  },
  {
   "cell_type": "code",
   "execution_count": 114,
   "metadata": {},
   "outputs": [
    {
     "data": {
      "text/plain": [
       "0.7693351424694709"
      ]
     },
     "execution_count": 114,
     "metadata": {},
     "output_type": "execute_result"
    }
   ],
   "source": [
    "from sklearn.ensemble import RandomForestClassifier\n",
    "\n",
    "rf_clf = RandomForestClassifier()\n",
    "rf_clf.fit(X_train, y_train)\n",
    "cross_eval(rf_clf, 'random_forest')"
   ]
  },
  {
   "cell_type": "markdown",
   "metadata": {},
   "source": [
    "# SVM"
   ]
  },
  {
   "cell_type": "code",
   "execution_count": 115,
   "metadata": {},
   "outputs": [
    {
     "data": {
      "text/plain": [
       "0.7965174129353233"
      ]
     },
     "execution_count": 115,
     "metadata": {},
     "output_type": "execute_result"
    }
   ],
   "source": [
    "from sklearn.svm import SVC\n",
    "\n",
    "svc_clf = SVC()\n",
    "svc_clf.fit(X_train, y_train)\n",
    "cross_eval(svc_clf, 'SVC')"
   ]
  },
  {
   "cell_type": "markdown",
   "metadata": {},
   "source": [
    "# KNN"
   ]
  },
  {
   "cell_type": "code",
   "execution_count": 117,
   "metadata": {},
   "outputs": [
    {
     "data": {
      "text/plain": [
       "0.8010628674807778"
      ]
     },
     "execution_count": 117,
     "metadata": {},
     "output_type": "execute_result"
    }
   ],
   "source": [
    "from sklearn.neighbors import KNeighborsClassifier\n",
    "\n",
    "knn_clf = KNeighborsClassifier()\n",
    "knn_clf.fit(X_train, y_train)\n",
    "cross_eval(knn_clf, 'KNN')"
   ]
  },
  {
   "cell_type": "code",
   "execution_count": 125,
   "metadata": {},
   "outputs": [
    {
     "data": {
      "text/plain": [
       "{'n_neighbors': 50}"
      ]
     },
     "execution_count": 125,
     "metadata": {},
     "output_type": "execute_result"
    }
   ],
   "source": [
    "from sklearn.model_selection import GridSearchCV\n",
    "\n",
    "param = {'n_neighbors':[i for i in range(1, 101)]}\n",
    "\n",
    "grid_search = GridSearchCV(\n",
    "    estimator=KNeighborsClassifier(),\n",
    "    param_grid=param,\n",
    "    cv=5,\n",
    "    scoring='accuracy',\n",
    ")\n",
    "\n",
    "grid_result = grid_search.fit(X_train, y_train)\n",
    "best_params = grid_result.best_params_\n",
    "\n",
    "best_params"
   ]
  },
  {
   "cell_type": "code",
   "execution_count": 126,
   "metadata": {},
   "outputs": [
    {
     "data": {
      "text/plain": [
       "0.7950474898236093"
      ]
     },
     "execution_count": 126,
     "metadata": {},
     "output_type": "execute_result"
    }
   ],
   "source": [
    "knn_clf_50 = KNeighborsClassifier(n_neighbors=50)\n",
    "knn_clf_50.fit(X_train, y_train)\n",
    "cross_eval(knn_clf_50, 'KNN_50')"
   ]
  },
  {
   "cell_type": "markdown",
   "metadata": {},
   "source": [
    "# Naive Bayes"
   ]
  },
  {
   "cell_type": "code",
   "execution_count": 133,
   "metadata": {},
   "outputs": [
    {
     "data": {
      "text/plain": [
       "0.7800316598824062"
      ]
     },
     "execution_count": 133,
     "metadata": {},
     "output_type": "execute_result"
    }
   ],
   "source": [
    "from sklearn.naive_bayes import MultinomialNB\n",
    "from sklearn.preprocessing import MinMaxScaler\n",
    "\n",
    "unscaled_X = scaler.inverse_transform(X_train)\n",
    "\n",
    "mm_scaler = MinMaxScaler()\n",
    "mm_scaled_X = mm_scaler.fit_transform(unscaled_X)\n",
    "\n",
    "naive_clf = MultinomialNB()\n",
    "naive_clf.fit(mm_scaled_X, y_train)\n",
    "\n",
    "scores.update({'naive_bayes' : cross_val_score(naive_clf, mm_scaled_X, y_train, cv=10)})\n",
    "scores['naive_bayes'].mean()"
   ]
  },
  {
   "cell_type": "markdown",
   "metadata": {},
   "source": [
    "# More SVM"
   ]
  },
  {
   "cell_type": "code",
   "execution_count": 156,
   "metadata": {},
   "outputs": [],
   "source": [
    "from sklearn.svm import SVC\n",
    "from sklearn.model_selection import GridSearchCV\n",
    "\n",
    "param = {'kernel':['linear','poly','rbf','sigmoid']}\n",
    "\n",
    "grid_search = GridSearchCV(\n",
    "    estimator=SVC(),\n",
    "    param_grid=param,\n",
    "    cv=10,\n",
    ")\n",
    "\n",
    "grid_result = grid_search.fit(X_train, y_train)\n",
    "best_params = grid_result.best_params_"
   ]
  },
  {
   "cell_type": "code",
   "execution_count": 157,
   "metadata": {},
   "outputs": [
    {
     "data": {
      "text/plain": [
       "{'kernel': 'linear'}"
      ]
     },
     "execution_count": 157,
     "metadata": {},
     "output_type": "execute_result"
    }
   ],
   "source": [
    "best_params"
   ]
  },
  {
   "cell_type": "code",
   "execution_count": 158,
   "metadata": {},
   "outputs": [
    {
     "name": "stdout",
     "output_type": "stream",
     "text": [
      "0.799502487562189 {'kernel': 'linear'}\n",
      "0.7875621890547263 {'kernel': 'poly'}\n",
      "0.7965174129353233 {'kernel': 'rbf'}\n",
      "0.7319086386250565 {'kernel': 'sigmoid'}\n"
     ]
    }
   ],
   "source": [
    "cvres = grid_search.cv_results_\n",
    "for mean_score, params in zip(cvres['mean_test_score'], cvres['params']):\n",
    "    print(mean_score, params)"
   ]
  },
  {
   "cell_type": "markdown",
   "metadata": {},
   "source": [
    "# Logistic Regression"
   ]
  },
  {
   "cell_type": "code",
   "execution_count": 189,
   "metadata": {},
   "outputs": [
    {
     "data": {
      "text/plain": [
       "0.7935549525101764"
      ]
     },
     "execution_count": 189,
     "metadata": {},
     "output_type": "execute_result"
    }
   ],
   "source": [
    "from sklearn.linear_model import LogisticRegression\n",
    "\n",
    "log_clf = LogisticRegression()\n",
    "log_clf.fit(X_train, y_train)\n",
    "\n",
    "cross_eval(log_clf, 'logistic')"
   ]
  },
  {
   "cell_type": "markdown",
   "metadata": {},
   "source": [
    "# Neural Networks"
   ]
  },
  {
   "cell_type": "code",
   "execution_count": 184,
   "metadata": {},
   "outputs": [],
   "source": [
    "import tensorflow as tf\n",
    "from tensorflow.keras.models import Sequential\n",
    "from tensorflow.keras.layers import Dense, Dropout\n",
    "from tensorflow.keras.optimizers import RMSprop\n",
    "\n",
    "\n",
    "def create_model():\n",
    "    model = Sequential()\n",
    "    model.add(Dense(64, activation='relu', kernel_initializer='normal', input_dim=4))\n",
    "    model.add(Dropout(0.70))\n",
    "    model.add(Dense(32, activation='relu', kernel_initializer='normal'))\n",
    "    model.add(Dropout(0.50))\n",
    "    model.add(Dense(16, activation='relu', kernel_initializer='normal'))\n",
    "    model.add(Dense(8, activation='relu', kernel_initializer='normal'))\n",
    "    model.add(Dense(1, activation='sigmoid'))\n",
    "    \n",
    "    model.compile(loss='binary_crossentropy',\n",
    "              optimizer=RMSprop(),\n",
    "              metrics=['accuracy'])\n",
    "    \n",
    "    return model"
   ]
  },
  {
   "cell_type": "code",
   "execution_count": 185,
   "metadata": {
    "scrolled": true
   },
   "outputs": [
    {
     "name": "stdout",
     "output_type": "stream",
     "text": [
      "Epoch 1/50\n",
      "23/23 - 0s - loss: 0.6881 - accuracy: 0.6265 - val_loss: 0.6746 - val_accuracy: 0.7530\n",
      "Epoch 2/50\n",
      "23/23 - 0s - loss: 0.6528 - accuracy: 0.6928 - val_loss: 0.6235 - val_accuracy: 0.7530\n",
      "Epoch 3/50\n",
      "23/23 - 0s - loss: 0.6173 - accuracy: 0.7470 - val_loss: 0.5987 - val_accuracy: 0.7651\n",
      "Epoch 4/50\n",
      "23/23 - 0s - loss: 0.5886 - accuracy: 0.7786 - val_loss: 0.5867 - val_accuracy: 0.7711\n",
      "Epoch 5/50\n",
      "23/23 - 0s - loss: 0.5896 - accuracy: 0.7937 - val_loss: 0.5735 - val_accuracy: 0.7771\n",
      "Epoch 6/50\n",
      "23/23 - 0s - loss: 0.5696 - accuracy: 0.8117 - val_loss: 0.5577 - val_accuracy: 0.7651\n",
      "Epoch 7/50\n",
      "23/23 - 0s - loss: 0.5521 - accuracy: 0.8087 - val_loss: 0.5377 - val_accuracy: 0.7831\n",
      "Epoch 8/50\n",
      "23/23 - 0s - loss: 0.5329 - accuracy: 0.8012 - val_loss: 0.5130 - val_accuracy: 0.7952\n",
      "Epoch 9/50\n",
      "23/23 - 0s - loss: 0.4958 - accuracy: 0.8087 - val_loss: 0.4865 - val_accuracy: 0.8012\n",
      "Epoch 10/50\n",
      "23/23 - 0s - loss: 0.4836 - accuracy: 0.8102 - val_loss: 0.4660 - val_accuracy: 0.8072\n",
      "Epoch 11/50\n",
      "23/23 - 0s - loss: 0.4824 - accuracy: 0.8057 - val_loss: 0.4592 - val_accuracy: 0.8072\n",
      "Epoch 12/50\n",
      "23/23 - 0s - loss: 0.4783 - accuracy: 0.8072 - val_loss: 0.4592 - val_accuracy: 0.7831\n",
      "Epoch 13/50\n",
      "23/23 - 0s - loss: 0.4564 - accuracy: 0.8027 - val_loss: 0.4608 - val_accuracy: 0.7831\n",
      "Epoch 14/50\n",
      "23/23 - 0s - loss: 0.4614 - accuracy: 0.8208 - val_loss: 0.4609 - val_accuracy: 0.7831\n",
      "Epoch 15/50\n",
      "23/23 - 0s - loss: 0.4584 - accuracy: 0.8042 - val_loss: 0.4647 - val_accuracy: 0.7771\n",
      "Epoch 16/50\n",
      "23/23 - 0s - loss: 0.4659 - accuracy: 0.8163 - val_loss: 0.4634 - val_accuracy: 0.7952\n",
      "Epoch 17/50\n",
      "23/23 - 0s - loss: 0.4499 - accuracy: 0.8102 - val_loss: 0.4617 - val_accuracy: 0.7952\n",
      "Epoch 18/50\n",
      "23/23 - 0s - loss: 0.4682 - accuracy: 0.8117 - val_loss: 0.4657 - val_accuracy: 0.7771\n",
      "Epoch 19/50\n",
      "23/23 - 0s - loss: 0.4752 - accuracy: 0.8117 - val_loss: 0.4672 - val_accuracy: 0.7771\n",
      "Epoch 20/50\n",
      "23/23 - 0s - loss: 0.4585 - accuracy: 0.8133 - val_loss: 0.4675 - val_accuracy: 0.7771\n",
      "Epoch 21/50\n",
      "23/23 - 0s - loss: 0.4483 - accuracy: 0.8178 - val_loss: 0.4693 - val_accuracy: 0.7771\n",
      "Epoch 22/50\n",
      "23/23 - 0s - loss: 0.4630 - accuracy: 0.8057 - val_loss: 0.4733 - val_accuracy: 0.7771\n",
      "Epoch 23/50\n",
      "23/23 - 0s - loss: 0.4667 - accuracy: 0.8163 - val_loss: 0.4697 - val_accuracy: 0.7771\n",
      "Epoch 24/50\n",
      "23/23 - 0s - loss: 0.4488 - accuracy: 0.8133 - val_loss: 0.4695 - val_accuracy: 0.7771\n",
      "Epoch 25/50\n",
      "23/23 - 0s - loss: 0.4741 - accuracy: 0.8087 - val_loss: 0.4691 - val_accuracy: 0.7771\n",
      "Epoch 26/50\n",
      "23/23 - 0s - loss: 0.4626 - accuracy: 0.8072 - val_loss: 0.4687 - val_accuracy: 0.7771\n",
      "Epoch 27/50\n",
      "23/23 - 0s - loss: 0.4650 - accuracy: 0.8117 - val_loss: 0.4727 - val_accuracy: 0.7771\n",
      "Epoch 28/50\n",
      "23/23 - 0s - loss: 0.4671 - accuracy: 0.8102 - val_loss: 0.4739 - val_accuracy: 0.7771\n",
      "Epoch 29/50\n",
      "23/23 - 0s - loss: 0.4791 - accuracy: 0.8087 - val_loss: 0.4722 - val_accuracy: 0.7771\n",
      "Epoch 30/50\n",
      "23/23 - 0s - loss: 0.4678 - accuracy: 0.8057 - val_loss: 0.4731 - val_accuracy: 0.7771\n",
      "Epoch 31/50\n",
      "23/23 - 0s - loss: 0.4471 - accuracy: 0.8087 - val_loss: 0.4699 - val_accuracy: 0.7771\n",
      "Epoch 32/50\n",
      "23/23 - 0s - loss: 0.4643 - accuracy: 0.8102 - val_loss: 0.4703 - val_accuracy: 0.7892\n",
      "Epoch 33/50\n",
      "23/23 - 0s - loss: 0.4579 - accuracy: 0.8193 - val_loss: 0.4732 - val_accuracy: 0.7771\n",
      "Epoch 34/50\n",
      "23/23 - 0s - loss: 0.4712 - accuracy: 0.8042 - val_loss: 0.4734 - val_accuracy: 0.7771\n",
      "Epoch 35/50\n",
      "23/23 - 0s - loss: 0.4457 - accuracy: 0.8057 - val_loss: 0.4766 - val_accuracy: 0.7771\n",
      "Epoch 36/50\n",
      "23/23 - 0s - loss: 0.4445 - accuracy: 0.8133 - val_loss: 0.4750 - val_accuracy: 0.7771\n",
      "Epoch 37/50\n",
      "23/23 - 0s - loss: 0.4514 - accuracy: 0.8148 - val_loss: 0.4724 - val_accuracy: 0.7771\n",
      "Epoch 38/50\n",
      "23/23 - 0s - loss: 0.4611 - accuracy: 0.8148 - val_loss: 0.4696 - val_accuracy: 0.7892\n",
      "Epoch 39/50\n",
      "23/23 - 0s - loss: 0.4500 - accuracy: 0.8133 - val_loss: 0.4713 - val_accuracy: 0.7892\n",
      "Epoch 40/50\n",
      "23/23 - 0s - loss: 0.4504 - accuracy: 0.8178 - val_loss: 0.4744 - val_accuracy: 0.7771\n",
      "Epoch 41/50\n",
      "23/23 - 0s - loss: 0.4511 - accuracy: 0.8133 - val_loss: 0.4746 - val_accuracy: 0.7771\n",
      "Epoch 42/50\n",
      "23/23 - 0s - loss: 0.4719 - accuracy: 0.8163 - val_loss: 0.4763 - val_accuracy: 0.7771\n",
      "Epoch 43/50\n",
      "23/23 - 0s - loss: 0.4562 - accuracy: 0.8223 - val_loss: 0.4763 - val_accuracy: 0.7771\n",
      "Epoch 44/50\n",
      "23/23 - 0s - loss: 0.4488 - accuracy: 0.8178 - val_loss: 0.4761 - val_accuracy: 0.7771\n",
      "Epoch 45/50\n",
      "23/23 - 0s - loss: 0.4537 - accuracy: 0.8193 - val_loss: 0.4741 - val_accuracy: 0.7771\n",
      "Epoch 46/50\n",
      "23/23 - 0s - loss: 0.4514 - accuracy: 0.8072 - val_loss: 0.4777 - val_accuracy: 0.7771\n",
      "Epoch 47/50\n",
      "23/23 - 0s - loss: 0.4647 - accuracy: 0.8148 - val_loss: 0.4775 - val_accuracy: 0.7771\n",
      "Epoch 48/50\n",
      "23/23 - 0s - loss: 0.4564 - accuracy: 0.8148 - val_loss: 0.4793 - val_accuracy: 0.7771\n",
      "Epoch 49/50\n",
      "23/23 - 0s - loss: 0.4580 - accuracy: 0.8163 - val_loss: 0.4757 - val_accuracy: 0.7771\n",
      "Epoch 50/50\n",
      "23/23 - 0s - loss: 0.4562 - accuracy: 0.8208 - val_loss: 0.4808 - val_accuracy: 0.7771\n"
     ]
    }
   ],
   "source": [
    "test_model = create_model()\n",
    "\n",
    "history = test_model.fit(X_train, y_train,\n",
    "                    batch_size=30,\n",
    "                    epochs=50,\n",
    "                    verbose=2,\n",
    "                    validation_data=(X_test, y_test)\n",
    "                   )"
   ]
  },
  {
   "cell_type": "code",
   "execution_count": 186,
   "metadata": {},
   "outputs": [
    {
     "data": {
      "text/plain": [
       "0.8070782423019409"
      ]
     },
     "execution_count": 186,
     "metadata": {},
     "output_type": "execute_result"
    }
   ],
   "source": [
    "from tensorflow.keras.wrappers.scikit_learn import KerasClassifier\n",
    "\n",
    "estimator = KerasClassifier(build_fn=create_model, epochs=100, verbose=0)\n",
    "\n",
    "cross_eval(estimator, 'neural_network')"
   ]
  },
  {
   "cell_type": "code",
   "execution_count": 188,
   "metadata": {},
   "outputs": [
    {
     "data": {
      "text/plain": [
       "{'decision_tree': array([0.68656716, 0.80597015, 0.7761194 , 0.7761194 , 0.74242424,\n",
       "        0.65151515, 0.6969697 , 0.78787879, 0.71212121, 0.75757576]),\n",
       " 'random_forest': array([0.73134328, 0.8358209 , 0.86567164, 0.80597015, 0.74242424,\n",
       "        0.68181818, 0.71212121, 0.78787879, 0.77272727, 0.75757576]),\n",
       " 'SVC': array([0.79104478, 0.8358209 , 0.82089552, 0.85074627, 0.6969697 ,\n",
       "        0.81818182, 0.78787879, 0.74242424, 0.83333333, 0.78787879]),\n",
       " 'KNN': array([0.76119403, 0.85074627, 0.79104478, 0.89552239, 0.74242424,\n",
       "        0.8030303 , 0.75757576, 0.8030303 , 0.81818182, 0.78787879]),\n",
       " 'KNN_50': array([0.80597015, 0.8358209 , 0.79104478, 0.8358209 , 0.72727273,\n",
       "        0.8030303 , 0.74242424, 0.75757576, 0.83333333, 0.81818182]),\n",
       " 'naive_bayes': array([0.7761194 , 0.7761194 , 0.80597015, 0.82089552, 0.71212121,\n",
       "        0.8030303 , 0.74242424, 0.77272727, 0.78787879, 0.8030303 ]),\n",
       " 'neural_network': array([0.76119405, 0.82089549, 0.86567163, 0.880597  , 0.71212119,\n",
       "        0.81818181, 0.78787881, 0.77272725, 0.84848487, 0.80303031])}"
      ]
     },
     "execution_count": 188,
     "metadata": {},
     "output_type": "execute_result"
    }
   ],
   "source": [
    "scores"
   ]
  },
  {
   "cell_type": "code",
   "execution_count": null,
   "metadata": {},
   "outputs": [],
   "source": []
  }
 ],
 "metadata": {
  "kernelspec": {
   "display_name": "Python 3",
   "language": "python",
   "name": "python3"
  },
  "language_info": {
   "codemirror_mode": {
    "name": "ipython",
    "version": 3
   },
   "file_extension": ".py",
   "mimetype": "text/x-python",
   "name": "python",
   "nbconvert_exporter": "python",
   "pygments_lexer": "ipython3",
   "version": "3.7.6"
  }
 },
 "nbformat": 4,
 "nbformat_minor": 4
}
