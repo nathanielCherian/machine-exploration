{
 "cells": [
  {
   "cell_type": "code",
   "execution_count": 1,
   "metadata": {
    "scrolled": true
   },
   "outputs": [
    {
     "data": {
      "text/html": [
       "<div>\n",
       "<style scoped>\n",
       "    .dataframe tbody tr th:only-of-type {\n",
       "        vertical-align: middle;\n",
       "    }\n",
       "\n",
       "    .dataframe tbody tr th {\n",
       "        vertical-align: top;\n",
       "    }\n",
       "\n",
       "    .dataframe thead th {\n",
       "        text-align: right;\n",
       "    }\n",
       "</style>\n",
       "<table border=\"1\" class=\"dataframe\">\n",
       "  <thead>\n",
       "    <tr style=\"text-align: right;\">\n",
       "      <th></th>\n",
       "      <th>Sentiment</th>\n",
       "      <th>Id</th>\n",
       "      <th>Date</th>\n",
       "      <th>Flag</th>\n",
       "      <th>Handle</th>\n",
       "      <th>Tweet</th>\n",
       "    </tr>\n",
       "  </thead>\n",
       "  <tbody>\n",
       "    <tr>\n",
       "      <th>0</th>\n",
       "      <td>0</td>\n",
       "      <td>1467810369</td>\n",
       "      <td>Mon Apr 06 22:19:45 PDT 2009</td>\n",
       "      <td>NO_QUERY</td>\n",
       "      <td>_TheSpecialOne_</td>\n",
       "      <td>@switchfoot http://twitpic.com/2y1zl - Awww, t...</td>\n",
       "    </tr>\n",
       "    <tr>\n",
       "      <th>1</th>\n",
       "      <td>0</td>\n",
       "      <td>1467810672</td>\n",
       "      <td>Mon Apr 06 22:19:49 PDT 2009</td>\n",
       "      <td>NO_QUERY</td>\n",
       "      <td>scotthamilton</td>\n",
       "      <td>is upset that he can't update his Facebook by ...</td>\n",
       "    </tr>\n",
       "    <tr>\n",
       "      <th>2</th>\n",
       "      <td>0</td>\n",
       "      <td>1467810917</td>\n",
       "      <td>Mon Apr 06 22:19:53 PDT 2009</td>\n",
       "      <td>NO_QUERY</td>\n",
       "      <td>mattycus</td>\n",
       "      <td>@Kenichan I dived many times for the ball. Man...</td>\n",
       "    </tr>\n",
       "    <tr>\n",
       "      <th>3</th>\n",
       "      <td>0</td>\n",
       "      <td>1467811184</td>\n",
       "      <td>Mon Apr 06 22:19:57 PDT 2009</td>\n",
       "      <td>NO_QUERY</td>\n",
       "      <td>ElleCTF</td>\n",
       "      <td>my whole body feels itchy and like its on fire</td>\n",
       "    </tr>\n",
       "    <tr>\n",
       "      <th>4</th>\n",
       "      <td>0</td>\n",
       "      <td>1467811193</td>\n",
       "      <td>Mon Apr 06 22:19:57 PDT 2009</td>\n",
       "      <td>NO_QUERY</td>\n",
       "      <td>Karoli</td>\n",
       "      <td>@nationwideclass no, it's not behaving at all....</td>\n",
       "    </tr>\n",
       "  </tbody>\n",
       "</table>\n",
       "</div>"
      ],
      "text/plain": [
       "   Sentiment          Id                          Date      Flag  \\\n",
       "0          0  1467810369  Mon Apr 06 22:19:45 PDT 2009  NO_QUERY   \n",
       "1          0  1467810672  Mon Apr 06 22:19:49 PDT 2009  NO_QUERY   \n",
       "2          0  1467810917  Mon Apr 06 22:19:53 PDT 2009  NO_QUERY   \n",
       "3          0  1467811184  Mon Apr 06 22:19:57 PDT 2009  NO_QUERY   \n",
       "4          0  1467811193  Mon Apr 06 22:19:57 PDT 2009  NO_QUERY   \n",
       "\n",
       "            Handle                                              Tweet  \n",
       "0  _TheSpecialOne_  @switchfoot http://twitpic.com/2y1zl - Awww, t...  \n",
       "1    scotthamilton  is upset that he can't update his Facebook by ...  \n",
       "2         mattycus  @Kenichan I dived many times for the ball. Man...  \n",
       "3          ElleCTF    my whole body feels itchy and like its on fire   \n",
       "4           Karoli  @nationwideclass no, it's not behaving at all....  "
      ]
     },
     "execution_count": 1,
     "metadata": {},
     "output_type": "execute_result"
    }
   ],
   "source": [
    "import pandas as pd\n",
    "import numpy as np\n",
    "\n",
    "\n",
    "columns = ['Sentiment', 'Id', 'Date', 'Flag', 'Handle', 'Tweet']\n",
    "\n",
    "tweet_data = pd.read_csv(r'datasets/training.1600000.processed.noemoticon.csv', encoding=\"ISO-8859-1\", names=columns)\n",
    "tweet_data.head()"
   ]
  },
  {
   "cell_type": "code",
   "execution_count": 2,
   "metadata": {},
   "outputs": [],
   "source": [
    "tweet_data = tweet_data.sample(frac=0.4)"
   ]
  },
  {
   "cell_type": "code",
   "execution_count": 3,
   "metadata": {},
   "outputs": [
    {
     "data": {
      "text/plain": [
       "4    320013\n",
       "0    319987\n",
       "Name: Sentiment, dtype: int64"
      ]
     },
     "execution_count": 3,
     "metadata": {},
     "output_type": "execute_result"
    }
   ],
   "source": [
    "tweet_data['Sentiment'].value_counts()"
   ]
  },
  {
   "cell_type": "code",
   "execution_count": 4,
   "metadata": {},
   "outputs": [],
   "source": [
    "tweet_data =tweet_data.drop(['Date', 'Flag', 'Handle'], axis=1)"
   ]
  },
  {
   "cell_type": "code",
   "execution_count": 5,
   "metadata": {},
   "outputs": [],
   "source": [
    "tweet_data.replace((4),(1), inplace=True)"
   ]
  },
  {
   "cell_type": "code",
   "execution_count": 6,
   "metadata": {},
   "outputs": [],
   "source": [
    "import html\n",
    "\n",
    "tweet_data.Tweet = tweet_data.Tweet.apply(lambda x : html.unescape(x))"
   ]
  },
  {
   "cell_type": "code",
   "execution_count": 7,
   "metadata": {},
   "outputs": [
    {
     "name": "stderr",
     "output_type": "stream",
     "text": [
      "[nltk_data] Downloading package stopwords to\n",
      "[nltk_data]     C:\\Users\\Nathan\\AppData\\Roaming\\nltk_data...\n",
      "[nltk_data]   Package stopwords is already up-to-date!\n"
     ]
    }
   ],
   "source": [
    "import urlextract\n",
    "import re\n",
    "import nltk\n",
    "from nltk.corpus import stopwords\n",
    "from nltk.stem import SnowballStemmer\n",
    "\n",
    "TAG_REGEX = r'@\\w+'\n",
    "NUMBER_REGEX = r'\\d+(?:\\.\\d*(?:[eE]\\d+))?'\n",
    "PUNCTUATION_REGEX = r'\\W+' #must replace with ' '\n",
    "#EXPRESSION_REGEX = r'[^a-zA-Z0-9\\s]\\S' will detect :) expressions\n",
    "\n",
    "url_extractor = urlextract.URLExtract()\n",
    "\n",
    "nltk.download('stopwords')\n",
    "stop_words = stopwords.words(\"english\")\n",
    "stemmer = SnowballStemmer(\"english\")\n",
    "\n",
    "\n",
    "def clean_tweet(tweet, stem=False):\n",
    "    tweet = tweet.lower()\n",
    "    \n",
    "    urls = list(set(url_extractor.find_urls(tweet)))\n",
    "    urls.sort(key=lambda url: len(url), reverse=True)\n",
    "    for url in urls:\n",
    "        tweet = tweet.replace(url, ' URL ')\n",
    "    \n",
    "    tweet = re.sub(TAG_REGEX, 'TAG', tweet)\n",
    "\n",
    "    tweet = re.sub(NUMBER_REGEX, 'NUMBER', tweet)\n",
    "\n",
    "    words = []\n",
    "    for word in tweet.split():\n",
    "        if word not in stop_words:          \n",
    "            if word not in ['URL', 'TAG', 'NUMBER']:\n",
    "                if stem:\n",
    "                    words.append(stemmer.stem(word))\n",
    "                else:\n",
    "                    words.append(word)\n",
    "            else:\n",
    "                    words.append(word)\n",
    "\n",
    "                    \n",
    "    tweet = ' '.join(words)\n",
    "\n",
    "    tweet = re.sub(PUNCTUATION_REGEX, ' ', tweet, flags=re.M)\n",
    "    \n",
    "        \n",
    "    return tweet\n",
    "        "
   ]
  },
  {
   "cell_type": "code",
   "execution_count": 8,
   "metadata": {},
   "outputs": [
    {
     "name": "stdout",
     "output_type": "stream",
     "text": [
      "@pamelafox Hi Pamela - I can't see the demos because I still don't have access to the Dev Sandbox ... \n",
      "cleaned :  TAG hi pamela can t see demo still access dev sandbox \n"
     ]
    }
   ],
   "source": [
    "print(list(tweet_data.Tweet)[0])\n",
    "print('cleaned : ', clean_tweet(list(tweet_data.Tweet)[0], stem=True))"
   ]
  },
  {
   "cell_type": "code",
   "execution_count": 9,
   "metadata": {},
   "outputs": [
    {
     "name": "stdout",
     "output_type": "stream",
     "text": [
      "Wall time: 1min 37s\n"
     ]
    }
   ],
   "source": [
    "%%time\n",
    "tweet_data.Tweet = tweet_data.Tweet.apply(lambda x: clean_tweet(x, stem=True))"
   ]
  },
  {
   "cell_type": "code",
   "execution_count": 10,
   "metadata": {},
   "outputs": [
    {
     "name": "stdout",
     "output_type": "stream",
     "text": [
      "Wall time: 1.17 s\n"
     ]
    }
   ],
   "source": [
    "%%time\n",
    "words = [tweet.split() for tweet in tweet_data.Tweet]"
   ]
  },
  {
   "cell_type": "code",
   "execution_count": 11,
   "metadata": {},
   "outputs": [],
   "source": [
    "t_words = []\n",
    "for word in words:\n",
    "    for w in word:\n",
    "        t_words.append(w)"
   ]
  },
  {
   "cell_type": "code",
   "execution_count": 12,
   "metadata": {},
   "outputs": [],
   "source": [
    "from collections import Counter\n",
    "\n",
    "word_counter = Counter(t_words)"
   ]
  },
  {
   "cell_type": "code",
   "execution_count": 13,
   "metadata": {
    "scrolled": true
   },
   "outputs": [
    {
     "data": {
      "text/plain": [
       "[('TAG', 305139),\n",
       " ('i', 84696),\n",
       " ('NUMBER', 55137),\n",
       " ('go', 54714),\n",
       " ('m', 54551),\n",
       " ('get', 44296),\n",
       " ('day', 40332),\n",
       " ('good', 36693),\n",
       " ('work', 33845),\n",
       " ('like', 33398),\n",
       " ('URL', 32963),\n",
       " ('number', 32815),\n",
       " ('love', 32242),\n",
       " ('today', 27468),\n",
       " ('time', 25206),\n",
       " ('got', 24721),\n",
       " ('lol', 23791),\n",
       " ('t', 23046),\n",
       " ('back', 22991),\n",
       " ('want', 22757),\n",
       " ('miss', 22584),\n",
       " ('u', 22365),\n",
       " ('one', 22238),\n",
       " ('know', 21815),\n",
       " ('see', 20585),\n",
       " ('think', 20341),\n",
       " ('it', 20304),\n",
       " ('feel', 20187),\n",
       " ('im', 20052),\n",
       " ('thank', 19937),\n",
       " ('can', 19330),\n",
       " ('realli', 18709),\n",
       " ('that', 18655),\n",
       " ('night', 18027),\n",
       " ('watch', 17193),\n",
       " ('still', 17191),\n",
       " ('hope', 17181),\n",
       " ('need', 17164),\n",
       " ('make', 17102),\n",
       " ('well', 16962),\n",
       " ('new', 16863),\n",
       " ('home', 16111),\n",
       " ('oh', 15857),\n",
       " ('look', 15559),\n",
       " ('come', 15217),\n",
       " ('you', 14926),\n",
       " ('much', 14822),\n",
       " ('last', 14491),\n",
       " ('ll', 13784),\n",
       " ('me', 13775),\n",
       " ('twitter', 13765),\n",
       " ('tomorrow', 13655),\n",
       " ('great', 13489),\n",
       " ('wish', 13393),\n",
       " ('wait', 12871),\n",
       " ('haha', 12535),\n",
       " ('sad', 12512),\n",
       " ('sleep', 12392),\n",
       " ('now', 12250),\n",
       " ('fun', 11584),\n",
       " ('bad', 11349),\n",
       " ('right', 11250),\n",
       " ('would', 10993),\n",
       " ('tri', 10843),\n",
       " ('week', 10592),\n",
       " ('tonight', 10334),\n",
       " ('v', 10172),\n",
       " ('way', 10076),\n",
       " ('thing', 9894),\n",
       " ('say', 9881),\n",
       " ('take', 9819),\n",
       " ('happi', 9782),\n",
       " ('follow', 9757),\n",
       " ('though', 9614),\n",
       " ('gonna', 9507),\n",
       " ('nice', 9486),\n",
       " ('better', 9308),\n",
       " ('morn', 9133),\n",
       " ('hate', 9120),\n",
       " ('friend', 8997),\n",
       " ('yeah', 8985),\n",
       " ('bed', 8965),\n",
       " ('tag', 8840),\n",
       " ('even', 8734),\n",
       " ('could', 8682),\n",
       " ('r', 8661),\n",
       " ('numb', 8502),\n",
       " ('school', 8422),\n",
       " ('start', 8417),\n",
       " ('too', 8378),\n",
       " ('sorri', 8288),\n",
       " ('show', 8049),\n",
       " ('weekend', 7837),\n",
       " ('tweet', 7828),\n",
       " ('play', 7686),\n",
       " ('let', 7567),\n",
       " ('hey', 7554),\n",
       " ('next', 7480),\n",
       " ('yes', 7342),\n",
       " ('dont', 7279)]"
      ]
     },
     "execution_count": 13,
     "metadata": {},
     "output_type": "execute_result"
    }
   ],
   "source": [
    "word_counter.most_common()[:100]"
   ]
  },
  {
   "cell_type": "code",
   "execution_count": 14,
   "metadata": {},
   "outputs": [
    {
     "data": {
      "text/html": [
       "<div>\n",
       "<style scoped>\n",
       "    .dataframe tbody tr th:only-of-type {\n",
       "        vertical-align: middle;\n",
       "    }\n",
       "\n",
       "    .dataframe tbody tr th {\n",
       "        vertical-align: top;\n",
       "    }\n",
       "\n",
       "    .dataframe thead th {\n",
       "        text-align: right;\n",
       "    }\n",
       "</style>\n",
       "<table border=\"1\" class=\"dataframe\">\n",
       "  <thead>\n",
       "    <tr style=\"text-align: right;\">\n",
       "      <th></th>\n",
       "      <th>Sentiment</th>\n",
       "      <th>Id</th>\n",
       "      <th>Tweet</th>\n",
       "    </tr>\n",
       "  </thead>\n",
       "  <tbody>\n",
       "    <tr>\n",
       "      <th>789216</th>\n",
       "      <td>0</td>\n",
       "      <td>2325327527</td>\n",
       "      <td>TAG hi pamela can t see demo still access dev ...</td>\n",
       "    </tr>\n",
       "    <tr>\n",
       "      <th>1279728</th>\n",
       "      <td>1</td>\n",
       "      <td>2001566064</td>\n",
       "      <td>morning vacat italy home play hot wheels kids ...</td>\n",
       "    </tr>\n",
       "    <tr>\n",
       "      <th>784020</th>\n",
       "      <td>0</td>\n",
       "      <td>2324059426</td>\n",
       "      <td>TAG i ll probabl blog point when time</td>\n",
       "    </tr>\n",
       "    <tr>\n",
       "      <th>91348</th>\n",
       "      <td>0</td>\n",
       "      <td>1759465342</td>\n",
       "      <td>think cat might come back</td>\n",
       "    </tr>\n",
       "    <tr>\n",
       "      <th>1046630</th>\n",
       "      <td>1</td>\n",
       "      <td>1957680689</td>\n",
       "      <td>morn all love day mk today sit garden enjoy su...</td>\n",
       "    </tr>\n",
       "  </tbody>\n",
       "</table>\n",
       "</div>"
      ],
      "text/plain": [
       "         Sentiment          Id  \\\n",
       "789216           0  2325327527   \n",
       "1279728          1  2001566064   \n",
       "784020           0  2324059426   \n",
       "91348            0  1759465342   \n",
       "1046630          1  1957680689   \n",
       "\n",
       "                                                     Tweet  \n",
       "789216   TAG hi pamela can t see demo still access dev ...  \n",
       "1279728  morning vacat italy home play hot wheels kids ...  \n",
       "784020               TAG i ll probabl blog point when time  \n",
       "91348                            think cat might come back  \n",
       "1046630  morn all love day mk today sit garden enjoy su...  "
      ]
     },
     "execution_count": 14,
     "metadata": {},
     "output_type": "execute_result"
    }
   ],
   "source": [
    "tweet_data.head()"
   ]
  },
  {
   "cell_type": "code",
   "execution_count": 15,
   "metadata": {},
   "outputs": [
    {
     "data": {
      "text/plain": [
       "1    320013\n",
       "0    319987\n",
       "Name: Sentiment, dtype: int64"
      ]
     },
     "execution_count": 15,
     "metadata": {},
     "output_type": "execute_result"
    }
   ],
   "source": [
    "tweet_data['Sentiment'].value_counts() #difference of 572 "
   ]
  },
  {
   "cell_type": "code",
   "execution_count": 16,
   "metadata": {},
   "outputs": [],
   "source": [
    "negetive_words = []\n",
    "\n",
    "for tweet in tweet_data[tweet_data.Sentiment == 0].Tweet:\n",
    "    for word in tweet.split():\n",
    "        negetive_words.append(word)"
   ]
  },
  {
   "cell_type": "code",
   "execution_count": 17,
   "metadata": {},
   "outputs": [
    {
     "data": {
      "text/plain": [
       "[('TAG', 122811),\n",
       " ('i', 46417),\n",
       " ('go', 31337),\n",
       " ('m', 30963),\n",
       " ('NUMBER', 30159),\n",
       " ('get', 24717),\n",
       " ('work', 22712),\n",
       " ('miss', 18958),\n",
       " ('day', 18840),\n",
       " ('like', 17283)]"
      ]
     },
     "execution_count": 17,
     "metadata": {},
     "output_type": "execute_result"
    }
   ],
   "source": [
    "neg_counter = Counter(negetive_words)\n",
    "neg_counter.most_common()[:10]"
   ]
  },
  {
   "cell_type": "code",
   "execution_count": 18,
   "metadata": {},
   "outputs": [],
   "source": [
    "positive_words = []\n",
    "\n",
    "for tweet in tweet_data[tweet_data.Sentiment == 1].Tweet:\n",
    "    for word in tweet.split():\n",
    "        positive_words.append(word)"
   ]
  },
  {
   "cell_type": "code",
   "execution_count": 19,
   "metadata": {},
   "outputs": [
    {
     "data": {
      "text/plain": [
       "[('TAG', 182328),\n",
       " ('i', 38279),\n",
       " ('good', 24991),\n",
       " ('NUMBER', 24978),\n",
       " ('love', 23781),\n",
       " ('m', 23588),\n",
       " ('go', 23377),\n",
       " ('URL', 21853),\n",
       " ('day', 21492),\n",
       " ('get', 19579)]"
      ]
     },
     "execution_count": 19,
     "metadata": {},
     "output_type": "execute_result"
    }
   ],
   "source": [
    "pos_counter = Counter(positive_words)\n",
    "pos_counter.most_common()[:10]"
   ]
  },
  {
   "cell_type": "code",
   "execution_count": 20,
   "metadata": {},
   "outputs": [
    {
     "data": {
      "image/png": "[encoded data removed]",
      "text/plain": [
       "<Figure size 1440x480 with 1 Axes>"
      ]
     },
     "metadata": {},
     "output_type": "display_data"
    }
   ],
   "source": [
    "import matplotlib.pyplot as plt\n",
    "import seaborn as sns\n",
    "sns.set()\n",
    "\n",
    "sns.set(rc={'figure.figsize':(20,20/3)})\n",
    "\n",
    "values =  [x[1] for x in word_counter.most_common()[:20]]\n",
    "words = [x[0] for x in word_counter.most_common()[:20]]\n",
    "\n",
    "pos_words = [pos_counter[w] for w in words]\n",
    "neg_words = [neg_counter[w] for w in words]\n",
    "\n",
    "plt.bar(words, pos_words, width= 0.8, label='positive', color='blue', bottom=neg_words)\n",
    "plt.bar(words, neg_words, width= 0.8, label='negetive', color='red')\n",
    "\n",
    "\n",
    "for i in range(len(words)):\n",
    "    plt.text(i, values[i] + 1000, \n",
    "             str(round((neg_words[i]/values[i]) * 100, 4)),  \n",
    "             rotation=45)\n",
    "\n",
    "\n",
    "plt.ylabel(\"Words\")\n",
    "plt.xlabel(\"Counts\")\n",
    "plt.legend(loc=\"upper right\")\n",
    "plt.title(\"Top Words by Sentiment\")\n",
    "\n",
    "plt.show()"
   ]
  },
  {
   "cell_type": "markdown",
   "metadata": {},
   "source": [
    "# Moving on to Vectorizing"
   ]
  },
  {
   "cell_type": "code",
   "execution_count": 21,
   "metadata": {},
   "outputs": [],
   "source": [
    "from tensorflow.keras.preprocessing.text import Tokenizer\n",
    "\n",
    "tokenizer = Tokenizer()\n",
    "tokenizer.fit_on_texts(tweet_data.Tweet)"
   ]
  },
  {
   "cell_type": "code",
   "execution_count": 22,
   "metadata": {},
   "outputs": [],
   "source": [
    "word_index = tokenizer.word_index\n",
    "vocab_size = len(tokenizer.word_index) + 1"
   ]
  },
  {
   "cell_type": "code",
   "execution_count": 23,
   "metadata": {},
   "outputs": [
    {
     "data": {
      "text/plain": [
       "{'tag': 1,\n",
       " 'number': 2,\n",
       " 'i': 3,\n",
       " 'go': 4,\n",
       " 'm': 5,\n",
       " 'get': 6,\n",
       " 'day': 7,\n",
       " 'good': 8,\n",
       " 'work': 9,\n",
       " 'like': 10,\n",
       " 'url': 11,\n",
       " 'love': 12,\n",
       " 'today': 13,\n",
       " 'time': 14,\n",
       " 'got': 15,\n",
       " 'lol': 16,\n",
       " 't': 17,\n",
       " 'back': 18,\n",
       " 'want': 19,\n",
       " 'miss': 20,\n",
       " 'u': 21,\n",
       " 'one': 22,\n",
       " 'know': 23,\n",
       " 'see': 24,\n",
       " 'think': 25,\n",
       " 'it': 26,\n",
       " 'feel': 27,\n",
       " 'im': 28,\n",
       " 'thank': 29,\n",
       " 'can': 30,\n",
       " 'realli': 31,\n",
       " 'that': 32,\n",
       " 'night': 33,\n",
       " 'watch': 34,\n",
       " 'still': 35,\n",
       " 'hope': 36,\n",
       " 'need': 37,\n",
       " 'make': 38,\n",
       " 'well': 39,\n",
       " 'new': 40,\n",
       " 'home': 41,\n",
       " 'oh': 42,\n",
       " 'look': 43,\n",
       " 'come': 44,\n",
       " 'you': 45,\n",
       " 'much': 46,\n",
       " 'last': 47,\n",
       " 'll': 48,\n",
       " 'me': 49,\n",
       " 'twitter': 50,\n",
       " 'tomorrow': 51,\n",
       " 'great': 52,\n",
       " 'wish': 53,\n",
       " 'wait': 54,\n",
       " 'haha': 55,\n",
       " 'sad': 56,\n",
       " 'sleep': 57,\n",
       " 'now': 58,\n",
       " 'fun': 59,\n",
       " 'bad': 60,\n",
       " 'right': 61,\n",
       " 'would': 62,\n",
       " 'tri': 63,\n",
       " 'week': 64,\n",
       " 'tonight': 65,\n",
       " 'v': 66,\n",
       " 'way': 67,\n",
       " 'thing': 68,\n",
       " 'say': 69,\n",
       " 'take': 70,\n",
       " 'happi': 71,\n",
       " 'follow': 72,\n",
       " 'though': 73,\n",
       " 'gonna': 74,\n",
       " 'nice': 75,\n",
       " 'better': 76,\n",
       " 'morn': 77,\n",
       " 'hate': 78,\n",
       " 'friend': 79,\n",
       " 'yeah': 80,\n",
       " 'bed': 81,\n",
       " 'even': 82,\n",
       " 'could': 83,\n",
       " 'r': 84,\n",
       " 'numb': 85,\n",
       " 'school': 86,\n",
       " 'start': 87,\n",
       " 'too': 88,\n",
       " 'sorri': 89,\n",
       " 'show': 90,\n",
       " 'weekend': 91,\n",
       " 'tweet': 92,\n",
       " 'play': 93,\n",
       " 'let': 94,\n",
       " 'hey': 95,\n",
       " 'next': 96,\n",
       " 'yes': 97,\n",
       " 'dont': 98,\n",
       " 'up': 99,\n",
       " 'use': 100,\n",
       " 'peopl': 101,\n",
       " 'never': 102,\n",
       " 'd': 103,\n",
       " 'cant': 104,\n",
       " 'soon': 105,\n",
       " 'hour': 106,\n",
       " 'there': 107,\n",
       " 'long': 108,\n",
       " 'first': 109,\n",
       " 'wanna': 110,\n",
       " 'best': 111,\n",
       " 'final': 112,\n",
       " 'littl': 113,\n",
       " 'sick': 114,\n",
       " 'life': 115,\n",
       " 'ok': 116,\n",
       " 'guy': 117,\n",
       " 'find': 118,\n",
       " 'rain': 119,\n",
       " 'done': 120,\n",
       " 'year': 121,\n",
       " 'sure': 122,\n",
       " 'x': 123,\n",
       " 'head': 124,\n",
       " 'help': 125,\n",
       " 'girl': 126,\n",
       " 'talk': 127,\n",
       " 'call': 128,\n",
       " 'alway': 129,\n",
       " 'keep': 130,\n",
       " 'cool': 131,\n",
       " 'lot': 132,\n",
       " 'again': 133,\n",
       " 'us': 134,\n",
       " 'man': 135,\n",
       " 'anoth': 136,\n",
       " 'phone': 137,\n",
       " 'yay': 138,\n",
       " 'live': 139,\n",
       " 'eat': 140,\n",
       " 'enjoy': 141,\n",
       " 'made': 142,\n",
       " 'read': 143,\n",
       " 'pleas': 144,\n",
       " 'everyon': 145,\n",
       " 'went': 146,\n",
       " 'out': 147,\n",
       " 'yet': 148,\n",
       " 'ur': 149,\n",
       " 'ever': 150,\n",
       " 'what': 151,\n",
       " 'leav': 152,\n",
       " 'readi': 153,\n",
       " 'sound': 154,\n",
       " 'song': 155,\n",
       " 'we': 156,\n",
       " 'thought': 157,\n",
       " 'morning': 158,\n",
       " 'away': 159,\n",
       " 'omg': 160,\n",
       " 'n': 161,\n",
       " 'old': 162,\n",
       " 'here': 163,\n",
       " 'movi': 164,\n",
       " 'summer': 165,\n",
       " 'guess': 166,\n",
       " 'tell': 167,\n",
       " 'no': 168,\n",
       " 'someth': 169,\n",
       " 'mayb': 170,\n",
       " 'pretti': 171,\n",
       " 'damn': 172,\n",
       " 'finish': 173,\n",
       " 'hurt': 174,\n",
       " 'listen': 175,\n",
       " 'check': 176,\n",
       " 'left': 177,\n",
       " 'lost': 178,\n",
       " 'mean': 179,\n",
       " 'game': 180,\n",
       " 'bit': 181,\n",
       " 'big': 182,\n",
       " 'wow': 183,\n",
       " 'give': 184,\n",
       " 'w': 185,\n",
       " 'alreadi': 186,\n",
       " 'hear': 187,\n",
       " 'someon': 188,\n",
       " 'hot': 189,\n",
       " 'tire': 190,\n",
       " 'suck': 191,\n",
       " 'ya': 192,\n",
       " 'end': 193,\n",
       " 'glad': 194,\n",
       " 'awesom': 195,\n",
       " 'also': 196,\n",
       " 'sun': 197,\n",
       " 'birthday': 198,\n",
       " 'hard': 199,\n",
       " 'stop': 200,\n",
       " 'later': 201,\n",
       " 'bore': 202,\n",
       " 'stuff': 203,\n",
       " 'two': 204,\n",
       " 'he': 205,\n",
       " 'put': 206,\n",
       " 'weather': 207,\n",
       " 'late': 208,\n",
       " 'ugh': 209,\n",
       " 'saw': 210,\n",
       " 'noth': 211,\n",
       " 'mom': 212,\n",
       " 'god': 213,\n",
       " 's': 214,\n",
       " 'yesterday': 215,\n",
       " 'might': 216,\n",
       " 'said': 217,\n",
       " 'car': 218,\n",
       " 'pic': 219,\n",
       " 'stay': 220,\n",
       " 'fuck': 221,\n",
       " 'run': 222,\n",
       " 'hi': 223,\n",
       " 'world': 224,\n",
       " 'music': 225,\n",
       " 'thanks': 226,\n",
       " 'sinc': 227,\n",
       " 'hous': 228,\n",
       " 'wonder': 229,\n",
       " 'job': 230,\n",
       " 'actual': 231,\n",
       " 'excit': 232,\n",
       " 'gotta': 233,\n",
       " 'earli': 234,\n",
       " 'around': 235,\n",
       " 'exam': 236,\n",
       " 'friday': 237,\n",
       " 'mani': 238,\n",
       " 'seem': 239,\n",
       " 'meet': 240,\n",
       " 'all': 241,\n",
       " 'numberth': 242,\n",
       " 'b': 243,\n",
       " 'cold': 244,\n",
       " 'but': 245,\n",
       " 'post': 246,\n",
       " 'monday': 247,\n",
       " 'babi': 248,\n",
       " 'sunday': 249,\n",
       " 'do': 250,\n",
       " 'found': 251,\n",
       " 'poor': 252,\n",
       " 'gone': 253,\n",
       " 'video': 254,\n",
       " 'luck': 255,\n",
       " 'may': 256,\n",
       " 'must': 257,\n",
       " 'happen': 258,\n",
       " 'aww': 259,\n",
       " 'move': 260,\n",
       " 'so': 261,\n",
       " 'buy': 262,\n",
       " 'okay': 263,\n",
       " 'parti': 264,\n",
       " 'they': 265,\n",
       " 'amaz': 266,\n",
       " 'tho': 267,\n",
       " 'woke': 268,\n",
       " 'least': 269,\n",
       " 'cute': 270,\n",
       " 'lunch': 271,\n",
       " 'food': 272,\n",
       " 'and': 273,\n",
       " 'almost': 274,\n",
       " 'book': 275,\n",
       " 'till': 276,\n",
       " 'dinner': 277,\n",
       " 'awesome': 278,\n",
       " 'on': 279,\n",
       " 'total': 280,\n",
       " 'far': 281,\n",
       " 'beauti': 282,\n",
       " 'hair': 283,\n",
       " 'shit': 284,\n",
       " 'free': 285,\n",
       " 'numberam': 286,\n",
       " 'boy': 287,\n",
       " 'believ': 288,\n",
       " 'o': 289,\n",
       " 'sweet': 290,\n",
       " 'kid': 291,\n",
       " 'caus': 292,\n",
       " 'win': 293,\n",
       " 'without': 294,\n",
       " 'forward': 295,\n",
       " 'place': 296,\n",
       " 'turn': 297,\n",
       " 'mine': 298,\n",
       " 'drink': 299,\n",
       " 'updat': 300,\n",
       " 'class': 301,\n",
       " 'plan': 302,\n",
       " 'sit': 303,\n",
       " 'month': 304,\n",
       " 'walk': 305,\n",
       " 'drive': 306,\n",
       " 'real': 307,\n",
       " 'stupid': 308,\n",
       " 'send': 309,\n",
       " 'busi': 310,\n",
       " 'dad': 311,\n",
       " 'hahaha': 312,\n",
       " 'die': 313,\n",
       " 'ask': 314,\n",
       " 'ill': 315,\n",
       " 'shop': 316,\n",
       " 'name': 317,\n",
       " 'enough': 318,\n",
       " 'room': 319,\n",
       " 'didnt': 320,\n",
       " 'wrong': 321,\n",
       " 'ha': 322,\n",
       " 'anyth': 323,\n",
       " 'anyon': 324,\n",
       " 'in': 325,\n",
       " 'not': 326,\n",
       " 'everi': 327,\n",
       " 'write': 328,\n",
       " 'p': 329,\n",
       " 'chang': 330,\n",
       " 'iphon': 331,\n",
       " 'studi': 332,\n",
       " 'wake': 333,\n",
       " 'clean': 334,\n",
       " 'idea': 335,\n",
       " 'a': 336,\n",
       " 'money': 337,\n",
       " 'saturday': 338,\n",
       " 'sooo': 339,\n",
       " 'everyth': 340,\n",
       " 'dog': 341,\n",
       " 'hit': 342,\n",
       " 'dream': 343,\n",
       " 'them': 344,\n",
       " 'tv': 345,\n",
       " 'break': 346,\n",
       " 'probabl': 347,\n",
       " 'came': 348,\n",
       " 'tired': 349,\n",
       " 'kinda': 350,\n",
       " 'cri': 351,\n",
       " 'xx': 352,\n",
       " 'beach': 353,\n",
       " 'whole': 354,\n",
       " 'seen': 355,\n",
       " 'face': 356,\n",
       " 'famili': 357,\n",
       " 'hang': 358,\n",
       " 'blog': 359,\n",
       " 'half': 360,\n",
       " 'person': 361,\n",
       " 'sorry': 362,\n",
       " 'c': 363,\n",
       " 'open': 364,\n",
       " 'fan': 365,\n",
       " 'rest': 366,\n",
       " 'super': 367,\n",
       " 'mother': 368,\n",
       " 'awww': 369,\n",
       " 'brother': 370,\n",
       " 'hello': 371,\n",
       " 'hell': 372,\n",
       " 'goodnight': 373,\n",
       " 'welcom': 374,\n",
       " 'true': 375,\n",
       " 'kill': 376,\n",
       " 'pictur': 377,\n",
       " 'text': 378,\n",
       " 'quit': 379,\n",
       " 'part': 380,\n",
       " 'train': 381,\n",
       " 'pain': 382,\n",
       " 'aw': 383,\n",
       " 'news': 384,\n",
       " 'took': 385,\n",
       " 'is': 386,\n",
       " 'this': 387,\n",
       " 'rememb': 388,\n",
       " 'heart': 389,\n",
       " 'forgot': 390,\n",
       " 'â': 391,\n",
       " 'off': 392,\n",
       " 'abl': 393,\n",
       " 'fail': 394,\n",
       " 'ago': 395,\n",
       " 'either': 396,\n",
       " 'kind': 397,\n",
       " 'days': 398,\n",
       " 'to': 399,\n",
       " 'boo': 400,\n",
       " 'mind': 401,\n",
       " 'care': 402,\n",
       " 'ñ': 403,\n",
       " 'trip': 404,\n",
       " 'full': 405,\n",
       " 'rock': 406,\n",
       " 'close': 407,\n",
       " 'eye': 408,\n",
       " 'cuz': 409,\n",
       " 'ah': 410,\n",
       " 'ð': 411,\n",
       " 'bring': 412,\n",
       " 'pay': 413,\n",
       " 'soo': 414,\n",
       " 'sister': 415,\n",
       " 'word': 416,\n",
       " 'hehe': 417,\n",
       " 'stuck': 418,\n",
       " 'him': 419,\n",
       " 'coffe': 420,\n",
       " 'internet': 421,\n",
       " 'outsid': 422,\n",
       " 'then': 423,\n",
       " 'heard': 424,\n",
       " 'btw': 425,\n",
       " 'link': 426,\n",
       " 'anyway': 427,\n",
       " 'problem': 428,\n",
       " 'fall': 429,\n",
       " 'pick': 430,\n",
       " 'email': 431,\n",
       " 'site': 432,\n",
       " 'repli': 433,\n",
       " 'funni': 434,\n",
       " 'visit': 435,\n",
       " 'fine': 436,\n",
       " 'test': 437,\n",
       " 'comput': 438,\n",
       " 'wont': 439,\n",
       " 'add': 440,\n",
       " 'minut': 441,\n",
       " 'serious': 442,\n",
       " 'photo': 443,\n",
       " 'learn': 444,\n",
       " 'how': 445,\n",
       " 'set': 446,\n",
       " 'concert': 447,\n",
       " 'told': 448,\n",
       " 'season': 449,\n",
       " 'breakfast': 450,\n",
       " 'pass': 451,\n",
       " 'dude': 452,\n",
       " 'sucks': 453,\n",
       " 'shower': 454,\n",
       " 'ice': 455,\n",
       " 'til': 456,\n",
       " 'facebook': 457,\n",
       " 'suppos': 458,\n",
       " 'ass': 459,\n",
       " 'l': 460,\n",
       " 'high': 461,\n",
       " 'down': 462,\n",
       " 'catch': 463,\n",
       " 'lmao': 464,\n",
       " 'cut': 465,\n",
       " 'bought': 466,\n",
       " 'hand': 467,\n",
       " 'spend': 468,\n",
       " 'broke': 469,\n",
       " 'asleep': 470,\n",
       " 'els': 471,\n",
       " 'vote': 472,\n",
       " 'cat': 473,\n",
       " 'crazi': 474,\n",
       " 'over': 475,\n",
       " 'crap': 476,\n",
       " 'wear': 477,\n",
       " 'june': 478,\n",
       " 'danc': 479,\n",
       " 'headach': 480,\n",
       " 'ticket': 481,\n",
       " 'numberpm': 482,\n",
       " 'fix': 483,\n",
       " 'amazing': 484,\n",
       " 'instead': 485,\n",
       " 'mad': 486,\n",
       " 'bye': 487,\n",
       " 'la': 488,\n",
       " 'afternoon': 489,\n",
       " 'xd': 490,\n",
       " 'friends': 491,\n",
       " 'sign': 492,\n",
       " 'goe': 493,\n",
       " 'reason': 494,\n",
       " 'bout': 495,\n",
       " 'yea': 496,\n",
       " 'her': 497,\n",
       " 'jealous': 498,\n",
       " 'ride': 499,\n",
       " 'homework': 500,\n",
       " 'mi': 501,\n",
       " 'favorit': 502,\n",
       " 'red': 503,\n",
       " 'sore': 504,\n",
       " 'house': 505,\n",
       " 'sunni': 506,\n",
       " 'top': 507,\n",
       " 'smile': 508,\n",
       " 'dead': 509,\n",
       " 'worri': 510,\n",
       " 'album': 511,\n",
       " 'perfect': 512,\n",
       " 'guys': 513,\n",
       " 'near': 514,\n",
       " 'offic': 515,\n",
       " 'dear': 516,\n",
       " 'laptop': 517,\n",
       " 'definit': 518,\n",
       " 'already': 519,\n",
       " 'please': 520,\n",
       " 'nap': 521,\n",
       " 'tour': 522,\n",
       " 'list': 523,\n",
       " 'join': 524,\n",
       " 'anymor': 525,\n",
       " 'pack': 526,\n",
       " 'short': 527,\n",
       " 'water': 528,\n",
       " 'page': 529,\n",
       " 'store': 530,\n",
       " 'nite': 531,\n",
       " 'soooo': 532,\n",
       " 'second': 533,\n",
       " 'date': 534,\n",
       " 'e': 535,\n",
       " 'park': 536,\n",
       " 'goin': 537,\n",
       " 'everyone': 538,\n",
       " 'save': 539,\n",
       " 'figur': 540,\n",
       " 'weird': 541,\n",
       " 'sigh': 542,\n",
       " 'bored': 543,\n",
       " 'alon': 544,\n",
       " 'church': 545,\n",
       " 'star': 546,\n",
       " 'town': 547,\n",
       " 'sometim': 548,\n",
       " 'really': 549,\n",
       " 'side': 550,\n",
       " 'moment': 551,\n",
       " 'numberst': 552,\n",
       " 'coupl': 553,\n",
       " 'sing': 554,\n",
       " 'drop': 555,\n",
       " 'point': 556,\n",
       " 'ppl': 557,\n",
       " 'hug': 558,\n",
       " 'ipod': 559,\n",
       " 'less': 560,\n",
       " 'laugh': 561,\n",
       " 'mood': 562,\n",
       " 'download': 563,\n",
       " 'cream': 564,\n",
       " 'am': 565,\n",
       " 'tea': 566,\n",
       " 'forget': 567,\n",
       " 'holiday': 568,\n",
       " 'interest': 569,\n",
       " 'lil': 570,\n",
       " 'english': 571,\n",
       " 'ive': 572,\n",
       " 'account': 573,\n",
       " 'dress': 574,\n",
       " 'air': 575,\n",
       " 'order': 576,\n",
       " 'people': 577,\n",
       " 'answer': 578,\n",
       " 'pool': 579,\n",
       " 'onlin': 580,\n",
       " 'gym': 581,\n",
       " 'lucki': 582,\n",
       " 'fb': 583,\n",
       " 'movie': 584,\n",
       " 'decid': 585,\n",
       " 'lose': 586,\n",
       " 'the': 587,\n",
       " 'cook': 588,\n",
       " 'more': 589,\n",
       " 'realiz': 590,\n",
       " 'math': 591,\n",
       " 'complet': 592,\n",
       " 'ate': 593,\n",
       " 'mum': 594,\n",
       " 'fast': 595,\n",
       " 'wed': 596,\n",
       " 'chat': 597,\n",
       " 'ahh': 598,\n",
       " 'relax': 599,\n",
       " 'line': 600,\n",
       " 'band': 601,\n",
       " 'worst': 602,\n",
       " 'offici': 603,\n",
       " 'knew': 604,\n",
       " 'past': 605,\n",
       " 'usual': 606,\n",
       " 'black': 607,\n",
       " 'slow': 608,\n",
       " 'flight': 609,\n",
       " 'min': 610,\n",
       " 'share': 611,\n",
       " 'throat': 612,\n",
       " 'anymore': 613,\n",
       " 'messag': 614,\n",
       " 'yep': 615,\n",
       " 'broken': 616,\n",
       " 'london': 617,\n",
       " 'revis': 618,\n",
       " 'kick': 619,\n",
       " 'hmm': 620,\n",
       " 'worth': 621,\n",
       " 'em': 622,\n",
       " 'happy': 623,\n",
       " 'understand': 624,\n",
       " 'upload': 625,\n",
       " 'cours': 626,\n",
       " 'da': 627,\n",
       " 'team': 628,\n",
       " 'hours': 629,\n",
       " 'fair': 630,\n",
       " 'why': 631,\n",
       " 'support': 632,\n",
       " 'awak': 633,\n",
       " 'load': 634,\n",
       " 'citi': 635,\n",
       " 'mac': 636,\n",
       " 'sent': 637,\n",
       " 'beat': 638,\n",
       " 'via': 639,\n",
       " 'special': 640,\n",
       " 'window': 641,\n",
       " 'ladi': 642,\n",
       " 'xxx': 643,\n",
       " 'sat': 644,\n",
       " 'upset': 645,\n",
       " 'graduat': 646,\n",
       " 'three': 647,\n",
       " 'comment': 648,\n",
       " 'stori': 649,\n",
       " 'warm': 650,\n",
       " 'bet': 651,\n",
       " 'gave': 652,\n",
       " 'tuesday': 653,\n",
       " 'fli': 654,\n",
       " 'award': 655,\n",
       " 'early': 656,\n",
       " 'card': 657,\n",
       " 'y': 658,\n",
       " 'green': 659,\n",
       " 'shirt': 660,\n",
       " 'moon': 661,\n",
       " 'fell': 662,\n",
       " 'scare': 663,\n",
       " 'due': 664,\n",
       " 'longer': 665,\n",
       " 'thx': 666,\n",
       " 'cake': 667,\n",
       " 'bday': 668,\n",
       " 'blue': 669,\n",
       " 'followfriday': 670,\n",
       " 'differ': 671,\n",
       " 'app': 672,\n",
       " 'spent': 673,\n",
       " 'question': 674,\n",
       " 'beer': 675,\n",
       " 'wtf': 676,\n",
       " 'mr': 677,\n",
       " 'project': 678,\n",
       " 'freak': 679,\n",
       " 'chocol': 680,\n",
       " 'huge': 681,\n",
       " 'congrat': 682,\n",
       " 'ad': 683,\n",
       " 'k': 684,\n",
       " 'garden': 685,\n",
       " 'power': 686,\n",
       " 'paper': 687,\n",
       " 'flu': 688,\n",
       " 'miley': 689,\n",
       " 'nope': 690,\n",
       " 'rather': 691,\n",
       " 'parent': 692,\n",
       " 'mtv': 693,\n",
       " 'g': 694,\n",
       " 'annoy': 695,\n",
       " 'mess': 696,\n",
       " 'doesnt': 697,\n",
       " 'episod': 698,\n",
       " 'lay': 699,\n",
       " 're': 700,\n",
       " 'cannot': 701,\n",
       " 'earlier': 702,\n",
       " 'stomach': 703,\n",
       " 'plus': 704,\n",
       " 'record': 705,\n",
       " 'bus': 706,\n",
       " 'funny': 707,\n",
       " 'touch': 708,\n",
       " 'bless': 709,\n",
       " 'cheer': 710,\n",
       " 'chanc': 711,\n",
       " 'leg': 712,\n",
       " 'hungri': 713,\n",
       " 'youtub': 714,\n",
       " 'party': 715,\n",
       " 'baby': 716,\n",
       " 'did': 717,\n",
       " 'thursday': 718,\n",
       " 'who': 719,\n",
       " 'idk': 720,\n",
       " 'shame': 721,\n",
       " 'light': 722,\n",
       " 'slept': 723,\n",
       " 'sim': 724,\n",
       " 'chill': 725,\n",
       " 'hold': 726,\n",
       " '½': 727,\n",
       " 'son': 728,\n",
       " 'bike': 729,\n",
       " 'jona': 730,\n",
       " 'especi': 731,\n",
       " 'finger': 732,\n",
       " 'just': 733,\n",
       " 'uk': 734,\n",
       " 'numberday': 735,\n",
       " 'film': 736,\n",
       " 'cousin': 737,\n",
       " 'david': 738,\n",
       " 'togeth': 739,\n",
       " 'burn': 740,\n",
       " 'th': 741,\n",
       " 'ahhh': 742,\n",
       " 'white': 743,\n",
       " 'except': 744,\n",
       " 'tom': 745,\n",
       " 'safe': 746,\n",
       " 'box': 747,\n",
       " 'appar': 748,\n",
       " 'camera': 749,\n",
       " 'agre': 750,\n",
       " 'bbq': 751,\n",
       " 'camp': 752,\n",
       " 'wit': 753,\n",
       " 'luv': 754,\n",
       " 'bodi': 755,\n",
       " 'times': 756,\n",
       " 'shoot': 757,\n",
       " 'excited': 758,\n",
       " 'current': 759,\n",
       " 'father': 760,\n",
       " 'met': 761,\n",
       " 'unfortun': 762,\n",
       " 'absolut': 763,\n",
       " 'case': 764,\n",
       " 'horribl': 765,\n",
       " 'googl': 766,\n",
       " 'pizza': 767,\n",
       " 'colleg': 768,\n",
       " 'shot': 769,\n",
       " 'boyfriend': 770,\n",
       " 'deal': 771,\n",
       " 'dm': 772,\n",
       " 'radio': 773,\n",
       " 'working': 774,\n",
       " 'havent': 775,\n",
       " 'meant': 776,\n",
       " 'be': 777,\n",
       " 'babe': 778,\n",
       " 'pray': 779,\n",
       " 'remind': 780,\n",
       " 'block': 781,\n",
       " 'something': 782,\n",
       " 'club': 783,\n",
       " 'manag': 784,\n",
       " 'proud': 785,\n",
       " 'mail': 786,\n",
       " 'small': 787,\n",
       " 'f': 788,\n",
       " 'chicken': 789,\n",
       " 'airport': 790,\n",
       " 'h': 791,\n",
       " 'type': 792,\n",
       " 'numbernd': 793,\n",
       " 'bitch': 794,\n",
       " 'cd': 795,\n",
       " 'cover': 796,\n",
       " 'felt': 797,\n",
       " 'sort': 798,\n",
       " 'myself': 799,\n",
       " 'lazi': 800,\n",
       " 'smell': 801,\n",
       " 'doctor': 802,\n",
       " 'woo': 803,\n",
       " 'road': 804,\n",
       " 'fight': 805,\n",
       " 'stress': 806,\n",
       " 'twilight': 807,\n",
       " 'wednesday': 808,\n",
       " 'crash': 809,\n",
       " 'appreci': 810,\n",
       " 'for': 811,\n",
       " 'cup': 812,\n",
       " 'swim': 813,\n",
       " 'celebr': 814,\n",
       " 'fit': 815,\n",
       " 'lame': 816,\n",
       " 'cos': 817,\n",
       " 'wine': 818,\n",
       " 'count': 819,\n",
       " 'alright': 820,\n",
       " 'quick': 821,\n",
       " 'pull': 822,\n",
       " 'lie': 823,\n",
       " 'search': 824,\n",
       " 'gorgeous': 825,\n",
       " 'followers': 826,\n",
       " 'stand': 827,\n",
       " 'easi': 828,\n",
       " 'shall': 829,\n",
       " 'piss': 830,\n",
       " 'interview': 831,\n",
       " 'taken': 832,\n",
       " 'yup': 833,\n",
       " 'random': 834,\n",
       " 'tweets': 835,\n",
       " 'hmmm': 836,\n",
       " 'disappoint': 837,\n",
       " 'appl': 838,\n",
       " 'depress': 839,\n",
       " 'drunk': 840,\n",
       " 'fact': 841,\n",
       " 'xoxo': 842,\n",
       " 'feet': 843,\n",
       " 'jus': 844,\n",
       " 'hav': 845,\n",
       " 'shoe': 846,\n",
       " 'tast': 847,\n",
       " 'hurts': 848,\n",
       " 'sold': 849,\n",
       " 'round': 850,\n",
       " 'mention': 851,\n",
       " 'raini': 852,\n",
       " 'where': 853,\n",
       " 'bum': 854,\n",
       " 'rip': 855,\n",
       " 'front': 856,\n",
       " 'possibl': 857,\n",
       " 'note': 858,\n",
       " 'cancel': 859,\n",
       " 'are': 860,\n",
       " 'yo': 861,\n",
       " 'isnt': 862,\n",
       " 'design': 863,\n",
       " 'speak': 864,\n",
       " 'bro': 865,\n",
       " 'ouch': 866,\n",
       " 'juli': 867,\n",
       " 'storm': 868,\n",
       " 'age': 869,\n",
       " 'exact': 870,\n",
       " 'plane': 871,\n",
       " 'wash': 872,\n",
       " 'roll': 873,\n",
       " 'prob': 874,\n",
       " 'ohh': 875,\n",
       " 'sunshin': 876,\n",
       " 'voic': 877,\n",
       " 'art': 878,\n",
       " 'french': 879,\n",
       " 'at': 880,\n",
       " 'insid': 881,\n",
       " 'tummi': 882,\n",
       " 'family': 883,\n",
       " 'daughter': 884,\n",
       " 'behind': 885,\n",
       " 'expect': 886,\n",
       " 'gettin': 887,\n",
       " 'bar': 888,\n",
       " 'hill': 889,\n",
       " 'tan': 890,\n",
       " 'present': 891,\n",
       " 'websit': 892,\n",
       " 'pop': 893,\n",
       " 'surpris': 894,\n",
       " 'bag': 895,\n",
       " 'becom': 896,\n",
       " 'eh': 897,\n",
       " 'other': 898,\n",
       " 'clear': 899,\n",
       " 'door': 900,\n",
       " 'normal': 901,\n",
       " 'notic': 902,\n",
       " 'fire': 903,\n",
       " 'version': 904,\n",
       " 'along': 905,\n",
       " 'sis': 906,\n",
       " 'although': 907,\n",
       " 'glass': 908,\n",
       " 'sleepi': 909,\n",
       " 'self': 910,\n",
       " 'guitar': 911,\n",
       " 'ear': 912,\n",
       " 'arriv': 913,\n",
       " 'hahah': 914,\n",
       " 'kiss': 915,\n",
       " 'ahead': 916,\n",
       " 'huh': 917,\n",
       " 'hubbi': 918,\n",
       " 'alot': 919,\n",
       " 'wat': 920,\n",
       " 'gosh': 921,\n",
       " 'outside': 922,\n",
       " 'with': 923,\n",
       " 'wors': 924,\n",
       " 'web': 925,\n",
       " 'connect': 926,\n",
       " 'sale': 927,\n",
       " 'about': 928,\n",
       " 'vacat': 929,\n",
       " 'death': 930,\n",
       " 'extra': 931,\n",
       " 'mate': 932,\n",
       " 'sell': 933,\n",
       " 'invit': 934,\n",
       " 'fish': 935,\n",
       " 'goodby': 936,\n",
       " 'à': 937,\n",
       " 'matter': 938,\n",
       " 'dark': 939,\n",
       " 'ï': 940,\n",
       " 'allow': 941,\n",
       " 'event': 942,\n",
       " 'hotel': 943,\n",
       " 'group': 944,\n",
       " 'traffic': 945,\n",
       " 'paint': 946,\n",
       " 'begin': 947,\n",
       " 'yum': 948,\n",
       " 'magic': 949,\n",
       " 'hun': 950,\n",
       " 'wife': 951,\n",
       " 'fml': 952,\n",
       " 'going': 953,\n",
       " 'practic': 954,\n",
       " 'ball': 955,\n",
       " 'apart': 956,\n",
       " 'screen': 957,\n",
       " 'welcome': 958,\n",
       " 'product': 959,\n",
       " 'bb': 960,\n",
       " 'things': 961,\n",
       " 'return': 962,\n",
       " 'deserv': 963,\n",
       " 'nick': 964,\n",
       " 'blood': 965,\n",
       " 'headache': 966,\n",
       " 'coffee': 967,\n",
       " 'bloodi': 968,\n",
       " 'mile': 969,\n",
       " 'will': 970,\n",
       " 'aint': 971,\n",
       " 'course': 972,\n",
       " 'act': 973,\n",
       " 'travel': 974,\n",
       " 'hungry': 975,\n",
       " 'dang': 976,\n",
       " 'state': 977,\n",
       " 'arm': 978,\n",
       " 'vip': 979,\n",
       " 'while': 980,\n",
       " 'confus': 981,\n",
       " 'fat': 982,\n",
       " 'terribl': 983,\n",
       " 'hugs': 984,\n",
       " 'track': 985,\n",
       " 'weeks': 986,\n",
       " 'dunno': 987,\n",
       " 'pc': 988,\n",
       " 'ran': 989,\n",
       " 'heat': 990,\n",
       " 'j': 991,\n",
       " 'dvd': 992,\n",
       " 'singl': 993,\n",
       " 'blah': 994,\n",
       " 'ooh': 995,\n",
       " 'hop': 996,\n",
       " 'fever': 997,\n",
       " 'bug': 998,\n",
       " 'myspac': 999,\n",
       " 'taylor': 1000,\n",
       " ...}"
      ]
     },
     "execution_count": 23,
     "metadata": {},
     "output_type": "execute_result"
    }
   ],
   "source": [
    "word_index"
   ]
  },
  {
   "cell_type": "code",
   "execution_count": 24,
   "metadata": {},
   "outputs": [
    {
     "data": {
      "text/plain": [
       "8.3143078125"
      ]
     },
     "execution_count": 24,
     "metadata": {},
     "output_type": "execute_result"
    }
   ],
   "source": [
    "len(negetive_words + positive_words)/len(tweet_data.Tweet) #average amount of words per tweet"
   ]
  },
  {
   "cell_type": "code",
   "execution_count": 25,
   "metadata": {},
   "outputs": [],
   "source": [
    "from tensorflow.keras.preprocessing.sequence import pad_sequences\n",
    "\n",
    "train_tweets = pad_sequences(tokenizer.texts_to_sequences(tweet_data.Tweet), maxlen=30)"
   ]
  },
  {
   "cell_type": "code",
   "execution_count": 26,
   "metadata": {},
   "outputs": [
    {
     "data": {
      "text/plain": [
       "array([    0,     0,     0,     0,     0,     0,     0,     0,     0,\n",
       "           0,     0,     0,     0,     0,     0,     0,   158,   929,\n",
       "        3960,    41,    93,   189, 11031,  1209,  2981,   140,   218,\n",
       "         834,  1033,   131])"
      ]
     },
     "execution_count": 26,
     "metadata": {},
     "output_type": "execute_result"
    }
   ],
   "source": [
    "train_tweets[1]"
   ]
  },
  {
   "cell_type": "code",
   "execution_count": 27,
   "metadata": {},
   "outputs": [
    {
     "name": "stdout",
     "output_type": "stream",
     "text": [
      "[None, None, None, None, None, None, None, None, None, None, None, None, None, None, None, None, 'morning', 'vacat', 'italy', 'home', 'play', 'hot', 'wheels', 'kids', 'tiger', 'eat', 'car', 'random', 'race', 'cool']\n"
     ]
    }
   ],
   "source": [
    "reverse_word_map = dict(map(reversed, tokenizer.word_index.items()))\n",
    "\n",
    "w = []\n",
    "for i in train_tweets[1]:\n",
    "    w.append(reverse_word_map.get(i))\n",
    "    \n",
    "print(w)"
   ]
  },
  {
   "cell_type": "code",
   "execution_count": 28,
   "metadata": {},
   "outputs": [],
   "source": [
    "train_y = tweet_data.Sentiment.to_list()"
   ]
  },
  {
   "cell_type": "code",
   "execution_count": 46,
   "metadata": {},
   "outputs": [],
   "source": [
    "from sklearn.model_selection import train_test_split\n",
    "\n",
    "X_train, X_test, y_train, y_test = train_test_split(train_tweets, train_y, test_size=0.2, random_state=420)"
   ]
  },
  {
   "cell_type": "code",
   "execution_count": null,
   "metadata": {},
   "outputs": [],
   "source": []
  },
  {
   "cell_type": "markdown",
   "metadata": {},
   "source": [
    "# GloVe word embedding"
   ]
  },
  {
   "cell_type": "code",
   "execution_count": 29,
   "metadata": {},
   "outputs": [
    {
     "name": "stdout",
     "output_type": "stream",
     "text": [
      "400000\n"
     ]
    }
   ],
   "source": [
    "embeddings_index = {} #holds the glove vectors\n",
    "\n",
    "#this is just to transform a list of lists into a dict ['cat', 2.3434, 234234.3243, 23423.34] -> {'cat':[2.3434, 234234.3243],}\n",
    "\n",
    "f = open('transfers/glove.6B.300d.txt', encoding=\"utf8\")\n",
    "for line in f:\n",
    "    values = line.split()\n",
    "    word = value = values[0]\n",
    "    coefs = np.asarray(values[1:], dtype='float32')\n",
    "    embeddings_index[word] = coefs\n",
    "f.close()\n",
    "\n",
    "print(len(embeddings_index))"
   ]
  },
  {
   "cell_type": "code",
   "execution_count": 30,
   "metadata": {},
   "outputs": [],
   "source": [
    "embedding_matrix = np.zeros((vocab_size, 300)) #300 is the embedding dimension\n",
    "\n",
    "#converts the dict into a 2d matrix so it can be embedded into the neural network\n",
    "\n",
    "for word, i in word_index.items():\n",
    "    embedding_vector = embeddings_index.get(word)\n",
    "    if embedding_vector is not None:\n",
    "        embedding_matrix[i] = embedding_vector"
   ]
  },
  {
   "cell_type": "code",
   "execution_count": 31,
   "metadata": {},
   "outputs": [],
   "source": [
    "import tensorflow as tf\n",
    "\n",
    "embedding_layer = tf.keras.layers.Embedding(vocab_size,\n",
    "                                           300,\n",
    "                                           weights=[embedding_matrix],\n",
    "                                            input_length=30, #30 is the max sequence length for the tweets\n",
    "                                            trainable=False, #setting trainable to false because we want to keep as is\n",
    "                                           )"
   ]
  },
  {
   "cell_type": "markdown",
   "metadata": {},
   "source": [
    "# Creating a Sequential Model"
   ]
  },
  {
   "cell_type": "code",
   "execution_count": 39,
   "metadata": {},
   "outputs": [
    {
     "name": "stdout",
     "output_type": "stream",
     "text": [
      "Model: \"sequential_2\"\n",
      "_________________________________________________________________\n",
      "Layer (type)                 Output Shape              Param #   \n",
      "=================================================================\n",
      "embedding (Embedding)        (None, 30, 300)           44914800  \n",
      "_________________________________________________________________\n",
      "dropout_1 (Dropout)          (None, 30, 300)           0         \n",
      "_________________________________________________________________\n",
      "lstm_1 (LSTM)                (None, 100)               160400    \n",
      "_________________________________________________________________\n",
      "dense_1 (Dense)              (None, 1)                 101       \n",
      "=================================================================\n",
      "Total params: 45,075,301\n",
      "Trainable params: 160,501\n",
      "Non-trainable params: 44,914,800\n",
      "_________________________________________________________________\n"
     ]
    }
   ],
   "source": [
    "from tensorflow.keras import Sequential\n",
    "from tensorflow.keras.layers import Dense, Dropout, LSTM, Flatten\n",
    "\n",
    "model = Sequential()\n",
    "model.add(embedding_layer)\n",
    "model.add(Dropout(0.5))\n",
    "model.add(LSTM(100, dropout=0.2, recurrent_dropout=0.2))\n",
    "model.add(Dense(1, activation='sigmoid'))\n",
    "model.summary()"
   ]
  },
  {
   "cell_type": "code",
   "execution_count": 40,
   "metadata": {},
   "outputs": [],
   "source": [
    "model.compile(loss='binary_crossentropy',\n",
    "              optimizer='adam',\n",
    "              metrics=['accuracy'])"
   ]
  },
  {
   "cell_type": "code",
   "execution_count": 42,
   "metadata": {},
   "outputs": [],
   "source": [
    "from tensorflow.keras.callbacks import ReduceLROnPlateau, EarlyStopping\n",
    "\n",
    "callbacks = [ ReduceLROnPlateau(monitor='val_loss', patience=5, cooldown=0),\n",
    "              EarlyStopping(monitor='val_acc', min_delta=1e-4, patience=5)]"
   ]
  },
  {
   "cell_type": "code",
   "execution_count": 57,
   "metadata": {},
   "outputs": [
    {
     "name": "stdout",
     "output_type": "stream",
     "text": [
      "Epoch 1/10\n",
      "500/500 [==============================] - ETA: 0s - loss: 0.5525 - accuracy: 0.7126WARNING:tensorflow:Early stopping conditioned on metric `val_acc` which is not available. Available metrics are: loss,accuracy,val_loss,val_accuracy,lr\n",
      "500/500 [==============================] - 241s 483ms/step - loss: 0.5525 - accuracy: 0.7126 - val_loss: 0.5126 - val_accuracy: 0.7434 - lr: 0.0010\n",
      "Epoch 2/10\n",
      "500/500 [==============================] - ETA: 0s - loss: 0.5269 - accuracy: 0.7320WARNING:tensorflow:Early stopping conditioned on metric `val_acc` which is not available. Available metrics are: loss,accuracy,val_loss,val_accuracy,lr\n",
      "500/500 [==============================] - 241s 482ms/step - loss: 0.5269 - accuracy: 0.7320 - val_loss: 0.5007 - val_accuracy: 0.7532 - lr: 0.0010\n",
      "Epoch 3/10\n",
      "500/500 [==============================] - ETA: 0s - loss: 0.5164 - accuracy: 0.7405WARNING:tensorflow:Early stopping conditioned on metric `val_acc` which is not available. Available metrics are: loss,accuracy,val_loss,val_accuracy,lr\n",
      "500/500 [==============================] - 246s 491ms/step - loss: 0.5164 - accuracy: 0.7405 - val_loss: 0.4923 - val_accuracy: 0.7588 - lr: 0.0010\n",
      "Epoch 4/10\n",
      "500/500 [==============================] - ETA: 0s - loss: 0.5094 - accuracy: 0.7453WARNING:tensorflow:Early stopping conditioned on metric `val_acc` which is not available. Available metrics are: loss,accuracy,val_loss,val_accuracy,lr\n",
      "500/500 [==============================] - 243s 486ms/step - loss: 0.5094 - accuracy: 0.7453 - val_loss: 0.4892 - val_accuracy: 0.7610 - lr: 0.0010\n",
      "Epoch 5/10\n",
      "500/500 [==============================] - ETA: 0s - loss: 0.5045 - accuracy: 0.7499WARNING:tensorflow:Early stopping conditioned on metric `val_acc` which is not available. Available metrics are: loss,accuracy,val_loss,val_accuracy,lr\n",
      "500/500 [==============================] - 242s 485ms/step - loss: 0.5045 - accuracy: 0.7499 - val_loss: 0.4885 - val_accuracy: 0.7605 - lr: 0.0010\n",
      "Epoch 6/10\n",
      "500/500 [==============================] - ETA: 0s - loss: 0.5015 - accuracy: 0.7514WARNING:tensorflow:Early stopping conditioned on metric `val_acc` which is not available. Available metrics are: loss,accuracy,val_loss,val_accuracy,lr\n",
      "500/500 [==============================] - 241s 483ms/step - loss: 0.5015 - accuracy: 0.7514 - val_loss: 0.4867 - val_accuracy: 0.7637 - lr: 0.0010\n",
      "Epoch 7/10\n",
      "500/500 [==============================] - ETA: 0s - loss: 0.4986 - accuracy: 0.7535WARNING:tensorflow:Early stopping conditioned on metric `val_acc` which is not available. Available metrics are: loss,accuracy,val_loss,val_accuracy,lr\n",
      "500/500 [==============================] - 240s 480ms/step - loss: 0.4986 - accuracy: 0.7535 - val_loss: 0.4832 - val_accuracy: 0.7658 - lr: 0.0010\n",
      "Epoch 8/10\n",
      "500/500 [==============================] - ETA: 0s - loss: 0.4959 - accuracy: 0.7553WARNING:tensorflow:Early stopping conditioned on metric `val_acc` which is not available. Available metrics are: loss,accuracy,val_loss,val_accuracy,lr\n",
      "500/500 [==============================] - 244s 488ms/step - loss: 0.4959 - accuracy: 0.7553 - val_loss: 0.4813 - val_accuracy: 0.7672 - lr: 0.0010\n",
      "Epoch 9/10\n",
      "500/500 [==============================] - ETA: 0s - loss: 0.4938 - accuracy: 0.7569WARNING:tensorflow:Early stopping conditioned on metric `val_acc` which is not available. Available metrics are: loss,accuracy,val_loss,val_accuracy,lr\n",
      "500/500 [==============================] - 243s 487ms/step - loss: 0.4938 - accuracy: 0.7569 - val_loss: 0.4808 - val_accuracy: 0.7681 - lr: 0.0010\n",
      "Epoch 10/10\n",
      "500/500 [==============================] - ETA: 0s - loss: 0.4920 - accuracy: 0.7574WARNING:tensorflow:Early stopping conditioned on metric `val_acc` which is not available. Available metrics are: loss,accuracy,val_loss,val_accuracy,lr\n",
      "500/500 [==============================] - 244s 487ms/step - loss: 0.4920 - accuracy: 0.7574 - val_loss: 0.4801 - val_accuracy: 0.7674 - lr: 0.0010\n",
      "Wall time: 40min 30s\n"
     ]
    }
   ],
   "source": [
    "%%time\n",
    "\n",
    "history = model.fit(X_train, np.array(y_train), batch_size=1024, epochs=10,\n",
    "                    validation_data=(X_test, np.array(y_test)), verbose=1, callbacks=callbacks)"
   ]
  },
  {
   "cell_type": "code",
   "execution_count": 60,
   "metadata": {},
   "outputs": [
    {
     "name": "stdout",
     "output_type": "stream",
     "text": [
      "WARNING:tensorflow:From Z:\\anaconda\\lib\\site-packages\\tensorflow\\python\\ops\\resource_variable_ops.py:1817: calling BaseResourceVariable.__init__ (from tensorflow.python.ops.resource_variable_ops) with constraint is deprecated and will be removed in a future version.\n",
      "Instructions for updating:\n",
      "If using Keras pass *_constraint arguments to layers.\n",
      "INFO:tensorflow:Assets written to: models/assets\n"
     ]
    }
   ],
   "source": [
    "model.save(r'models/')"
   ]
  },
  {
   "cell_type": "markdown",
   "metadata": {},
   "source": [
    "# Evalulation"
   ]
  },
  {
   "cell_type": "code",
   "execution_count": 161,
   "metadata": {},
   "outputs": [
    {
     "data": {
      "text/plain": [
       "Text(0.5, 1.0, 'Accuracy over 10 epochs')"
      ]
     },
     "execution_count": 161,
     "metadata": {},
     "output_type": "execute_result"
    },
    {
     "data": {
      "image/png": "[encoded data removed]",
      "text/plain": [
       "<Figure size 1440x480 with 1 Axes>"
      ]
     },
     "metadata": {},
     "output_type": "display_data"
    }
   ],
   "source": [
    "plt.plot(history.history['accuracy'], c= 'b')\n",
    "plt.plot(history.history['val_accuracy'], c='r')\n",
    "plt.legend(['LSTM_train', 'LSTM_val'], loc='upper left')\n",
    "plt.title(\"Accuracy over 10 epochs\", fontsize=20)"
   ]
  },
  {
   "cell_type": "code",
   "execution_count": 162,
   "metadata": {},
   "outputs": [
    {
     "data": {
      "text/plain": [
       "Text(0.5, 1.0, 'Loss over 10 epochs')"
      ]
     },
     "execution_count": 162,
     "metadata": {},
     "output_type": "execute_result"
    },
    {
     "data": {
      "image/png": "[encoded data removed]",
      "text/plain": [
       "<Figure size 1440x480 with 1 Axes>"
      ]
     },
     "metadata": {},
     "output_type": "display_data"
    }
   ],
   "source": [
    "plt.plot(history.history['loss'], c= 'b')\n",
    "plt.plot(history.history['val_loss'], c='r')\n",
    "plt.legend(['train', 'val'], loc='upper right')\n",
    "plt.title(\"Loss over 10 epochs\", fontsize=20)"
   ]
  },
  {
   "cell_type": "code",
   "execution_count": 103,
   "metadata": {},
   "outputs": [
    {
     "data": {
      "text/plain": [
       "array([[0.7519741 ],\n",
       "       [0.26766816]], dtype=float32)"
      ]
     },
     "execution_count": 103,
     "metadata": {},
     "output_type": "execute_result"
    }
   ],
   "source": [
    "model.predict(np.array([X_test[13], X_test[12]]))"
   ]
  },
  {
   "cell_type": "code",
   "execution_count": 106,
   "metadata": {},
   "outputs": [
    {
     "name": "stdout",
     "output_type": "stream",
     "text": [
      "1 0\n"
     ]
    }
   ],
   "source": [
    "print(y_test[13], y_test[12])"
   ]
  },
  {
   "cell_type": "code",
   "execution_count": 141,
   "metadata": {},
   "outputs": [
    {
     "name": "stdout",
     "output_type": "stream",
     "text": [
      "13/13 [==============================] - 9s 702ms/step\n"
     ]
    }
   ],
   "source": [
    "#IMPORTANT ARRAY MUST BE NUMPY ARRAY\n",
    "\n",
    "X_test = np.array(X_test)\n",
    "\n",
    "scores = model.predict(X_test, verbose=1, batch_size=10000) #batch size to lighten cpu load\n"
   ]
  },
  {
   "cell_type": "code",
   "execution_count": 142,
   "metadata": {},
   "outputs": [],
   "source": [
    "def decode_sentiment(score):\n",
    "    if score >= .50:\n",
    "        return 1\n",
    "    elif score < .50:\n",
    "        return 0"
   ]
  },
  {
   "cell_type": "code",
   "execution_count": 143,
   "metadata": {},
   "outputs": [],
   "source": [
    "y_pred = [decode_sentiment(x[0]) for x in scores]"
   ]
  },
  {
   "cell_type": "code",
   "execution_count": 144,
   "metadata": {},
   "outputs": [
    {
     "name": "stdout",
     "output_type": "stream",
     "text": [
      "0.7674296875\n"
     ]
    }
   ],
   "source": [
    "from sklearn.metrics import confusion_matrix, accuracy_score\n",
    "\n",
    "cnf_matrix = confusion_matrix(y_test, y_pred)\n",
    "acc_score = accuracy_score(y_test, y_pred)\n",
    "print(acc_score)"
   ]
  },
  {
   "cell_type": "code",
   "execution_count": 167,
   "metadata": {},
   "outputs": [
    {
     "data": {
      "text/plain": [
       "Text(0.5, 1, 'Confusion Matrix for binary classification of Tweets')"
      ]
     },
     "execution_count": 167,
     "metadata": {},
     "output_type": "execute_result"
    },
    {
     "data": {
      "image/png": "[encoded data removed]",
      "text/plain": [
       "<Figure size 432x360 with 2 Axes>"
      ]
     },
     "metadata": {},
     "output_type": "display_data"
    }
   ],
   "source": [
    "import seaborn as sns\n",
    "\n",
    "relative_matrix = cnf_matrix/len(scores)\n",
    "\n",
    "plt.figure(figsize=(6,5))\n",
    "sns.heatmap(cnf_matrix, cmap=plt.cm.Blues, annot=relative_matrix)\n",
    "\n",
    "plt.ylabel('Trues', fontsize=17)\n",
    "plt.xlabel('Predicted', fontsize=17)\n",
    "plt.title(\"Confusion Matrix for binary classification of Tweets\", fontsize=17)"
   ]
  },
  {
   "cell_type": "code",
   "execution_count": 168,
   "metadata": {},
   "outputs": [
    {
     "data": {
      "text/plain": [
       "Text(0.5, 1.0, 'ROC-Curve for tweet Sentiments')"
      ]
     },
     "execution_count": 168,
     "metadata": {},
     "output_type": "execute_result"
    },
    {
     "data": {
      "image/png": "[encoded data removed]",
      "text/plain": [
       "<Figure size 1440x480 with 1 Axes>"
      ]
     },
     "metadata": {},
     "output_type": "display_data"
    }
   ],
   "source": [
    "from sklearn.metrics import precision_recall_curve, roc_curve\n",
    "\n",
    "fpr, tpr, thresholds = roc_curve(y_test, y_pred)\n",
    "\n",
    "plt.plot(fpr, tpr, linewidth=2, )\n",
    "plt.plot([0,1], [0,1], 'k--')\n",
    "plt.title('ROC-Curve for tweet Sentiments', fontsize=17)"
   ]
  },
  {
   "cell_type": "markdown",
   "metadata": {},
   "source": [
    "# Going Further"
   ]
  },
  {
   "cell_type": "code",
   "execution_count": 150,
   "metadata": {},
   "outputs": [],
   "source": [
    "def decode_sentiment(score):\n",
    "    if score <= 0.20: # 0.0 - 0.2\n",
    "        return 0\n",
    "    elif score <= 0.40: # 0.2 - 0.4\n",
    "        return 1\n",
    "    elif score <= 0.60: # 0.4 - 0.6\n",
    "        return 2\n",
    "    elif score <= 0.80: # 0.6 - 0.8\n",
    "        return 3\n",
    "    elif score <= 1.00: # 0.8 - 1.0\n",
    "        return 4"
   ]
  },
  {
   "cell_type": "code",
   "execution_count": 151,
   "metadata": {},
   "outputs": [],
   "source": [
    "range_scores = [decode_sentiment(x[0]) for x in scores]"
   ]
  },
  {
   "cell_type": "markdown",
   "metadata": {},
   "source": [
    " Creating a new range of sentiments to add nuetral and leanings\n",
    " \n",
    " 0 ----------- 1 ----------- 2 ----------- 3 ----------- 4 ----------- 5\n",
    " \n",
    " \n",
    " Negetive ------------------------- Nuetral ------------------- Positive"
   ]
  },
  {
   "cell_type": "code",
   "execution_count": 221,
   "metadata": {},
   "outputs": [],
   "source": [
    "from sklearn.base import BaseEstimator, TransformerMixin\n",
    "\n",
    "class TweetVectorizer(BaseEstimator, TransformerMixin):\n",
    "    def __init__(self):\n",
    "        return None\n",
    "    \n",
    "    def fit(self, X, y=None):\n",
    "        return self\n",
    "        \n",
    "    def transform(self, X, y=None):\n",
    "        X = X.apply(lambda x: clean_tweet(x, stem=True)) #cleaning and stemming\n",
    "        X = pad_sequences(tokenizer.texts_to_sequences(X), maxlen=30)\n",
    "\n",
    "        return np.array(X)"
   ]
  },
  {
   "cell_type": "code",
   "execution_count": 352,
   "metadata": {},
   "outputs": [],
   "source": [
    "sample = TweetVectorizer().fit_transform(X=pd.Series(['''Apologies to Tesla customers for shifting delivery dates. It’s a crazy world out there!''']))"
   ]
  },
  {
   "cell_type": "code",
   "execution_count": 354,
   "metadata": {},
   "outputs": [
    {
     "data": {
      "text/plain": [
       "array([[0.7589861]], dtype=float32)"
      ]
     },
     "execution_count": 354,
     "metadata": {},
     "output_type": "execute_result"
    }
   ],
   "source": [
    "model.predict(sample)"
   ]
  },
  {
   "cell_type": "code",
   "execution_count": null,
   "metadata": {},
   "outputs": [],
   "source": []
  }
 ],
 "metadata": {
  "kernelspec": {
   "display_name": "Python 3",
   "language": "python",
   "name": "python3"
  },
  "language_info": {
   "codemirror_mode": {
    "name": "ipython",
    "version": 3
   },
   "file_extension": ".py",
   "mimetype": "text/x-python",
   "name": "python",
   "nbconvert_exporter": "python",
   "pygments_lexer": "ipython3",
   "version": "3.7.6"
  }
 },
 "nbformat": 4,
 "nbformat_minor": 4
}
