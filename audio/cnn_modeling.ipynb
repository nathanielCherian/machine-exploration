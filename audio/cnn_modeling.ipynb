{
 "cells": [
  {
   "cell_type": "code",
   "execution_count": 1,
   "metadata": {},
   "outputs": [
    {
     "name": "stderr",
     "output_type": "stream",
     "text": [
      "Copying files: 1000 files [00:01, 960.64 files/s]\n"
     ]
    }
   ],
   "source": [
    "import split_folders\n",
    "\n",
    "split_folders.ratio('img_data/', output='data/', seed=1337, ratio=(0.8, 0.2))"
   ]
  },
  {
   "cell_type": "markdown",
   "metadata": {},
   "source": [
    "# Image Augmentation"
   ]
  },
  {
   "cell_type": "code",
   "execution_count": 4,
   "metadata": {},
   "outputs": [],
   "source": [
    "from tensorflow.keras.preprocessing.image import ImageDataGenerator\n",
    "\n",
    "train_datagen = ImageDataGenerator(\n",
    "    rescale=1.0/255,\n",
    "    shear_range=0.2,\n",
    "    zoom_range=0.2,\n",
    "    horizontal_flip=True)\n",
    "\n",
    "test_datagen = ImageDataGenerator(rescale=1.0/255)"
   ]
  },
  {
   "cell_type": "code",
   "execution_count": 7,
   "metadata": {},
   "outputs": [
    {
     "name": "stdout",
     "output_type": "stream",
     "text": [
      "Found 800 images belonging to 10 classes.\n",
      "Found 200 images belonging to 10 classes.\n"
     ]
    }
   ],
   "source": [
    "training_set = train_datagen.flow_from_directory(\n",
    "    'data/train',\n",
    "    target_size=(64, 64),\n",
    "    batch_size=32,\n",
    "    class_mode='categorical',\n",
    "    shuffle=False)\n",
    "\n",
    "test_set = test_datagen.flow_from_directory(\n",
    "    'data/val',\n",
    "    target_size=(64, 64),\n",
    "    batch_size=32,\n",
    "    class_mode='categorical',\n",
    "    shuffle=False)\n"
   ]
  },
  {
   "cell_type": "code",
   "execution_count": 16,
   "metadata": {},
   "outputs": [
    {
     "name": "stdout",
     "output_type": "stream",
     "text": [
      "Model: \"sequential_5\"\n",
      "_________________________________________________________________\n",
      "Layer (type)                 Output Shape              Param #   \n",
      "=================================================================\n",
      "conv2d_8 (Conv2D)            (None, 31, 31, 32)        896       \n",
      "_________________________________________________________________\n",
      "average_pooling2d_7 (Average (None, 15, 15, 32)        0         \n",
      "_________________________________________________________________\n",
      "activation_9 (Activation)    (None, 15, 15, 32)        0         \n",
      "_________________________________________________________________\n",
      "conv2d_9 (Conv2D)            (None, 15, 15, 64)        18496     \n",
      "_________________________________________________________________\n",
      "average_pooling2d_8 (Average (None, 7, 7, 64)          0         \n",
      "_________________________________________________________________\n",
      "activation_10 (Activation)   (None, 7, 7, 64)          0         \n",
      "_________________________________________________________________\n",
      "flatten_2 (Flatten)          (None, 3136)              0         \n",
      "_________________________________________________________________\n",
      "dropout_3 (Dropout)          (None, 3136)              0         \n",
      "_________________________________________________________________\n",
      "dense_3 (Dense)              (None, 64)                200768    \n",
      "_________________________________________________________________\n",
      "activation_11 (Activation)   (None, 64)                0         \n",
      "_________________________________________________________________\n",
      "dropout_4 (Dropout)          (None, 64)                0         \n",
      "_________________________________________________________________\n",
      "dense_4 (Dense)              (None, 10)                650       \n",
      "_________________________________________________________________\n",
      "activation_12 (Activation)   (None, 10)                0         \n",
      "=================================================================\n",
      "Total params: 220,810\n",
      "Trainable params: 220,810\n",
      "Non-trainable params: 0\n",
      "_________________________________________________________________\n"
     ]
    }
   ],
   "source": [
    "from tensorflow.keras.models import Sequential\n",
    "from tensorflow.keras.layers import Activation, Dense, Dropout, Conv2D, Flatten, MaxPooling2D, GlobalMaxPooling2D, GlobalAveragePooling1D, AveragePooling2D, Input, Add\n",
    "\n",
    "model = Sequential()\n",
    "input_shape = (64, 64, 3)\n",
    "\n",
    "model.add(Conv2D(32, (3,3), strides=(2,2), input_shape=input_shape))\n",
    "model.add(AveragePooling2D((2, 2), strides=(2,2)))\n",
    "model.add(Activation('relu'))\n",
    "\n",
    "model.add(Conv2D(64, (3, 3), padding='same'))\n",
    "model.add(AveragePooling2D((2, 2), strides=(2,2)))\n",
    "model.add(Activation('relu'))\n",
    "\n",
    "model.add(Flatten())\n",
    "model.add(Dropout(rate=0.5))\n",
    "\n",
    "model.add(Dense(64))\n",
    "model.add(Activation('relu'))\n",
    "model.add(Dropout(rate=0.5))\n",
    "\n",
    "model.add(Dense(10))\n",
    "model.add(Activation('softmax'))\n",
    "\n",
    "model.summary()"
   ]
  },
  {
   "cell_type": "code",
   "execution_count": 19,
   "metadata": {},
   "outputs": [],
   "source": [
    "from tensorflow.keras.optimizers import SGD\n",
    "\n",
    "epochs = 200\n",
    "batch_size = 8\n",
    "learning_rate = 0.01\n",
    "decay_rate = learning_rate / epochs\n",
    "momentum = 0.9\n",
    "sgd = SGD(lr=learning_rate, momentum=momentum, decay=decay_rate, nesterov=False)\n",
    "model.compile(optimizer=\"sgd\", loss=\"categorical_crossentropy\", metrics=['accuracy'])"
   ]
  },
  {
   "cell_type": "code",
   "execution_count": 22,
   "metadata": {
    "scrolled": true
   },
   "outputs": [
    {
     "name": "stdout",
     "output_type": "stream",
     "text": [
      "Epoch 1/50\n",
      "25/25 [==============================] - ETA: 0s - loss: 2.3175 - accuracy: 0.0838WARNING:tensorflow:Your input ran out of data; interrupting training. Make sure that your dataset or generator can generate at least `steps_per_epoch * epochs` batches (in this case, 200 batches). You may need to use the repeat() function when building your dataset.\n",
      "25/25 [==============================] - 3s 115ms/step - loss: 2.3175 - accuracy: 0.0838 - val_loss: 2.2979 - val_accuracy: 0.1000\n",
      "Epoch 2/50\n",
      "25/25 [==============================] - 2s 92ms/step - loss: 2.3150 - accuracy: 0.0688\n",
      "Epoch 3/50\n",
      "25/25 [==============================] - 2s 91ms/step - loss: 2.3109 - accuracy: 0.0725\n",
      "Epoch 4/50\n",
      "25/25 [==============================] - 2s 92ms/step - loss: 2.3082 - accuracy: 0.0800\n",
      "Epoch 5/50\n",
      "25/25 [==============================] - 2s 92ms/step - loss: 2.3085 - accuracy: 0.0750\n",
      "Epoch 6/50\n",
      "25/25 [==============================] - 2s 91ms/step - loss: 2.3085 - accuracy: 0.0850\n",
      "Epoch 7/50\n",
      "25/25 [==============================] - 2s 91ms/step - loss: 2.3064 - accuracy: 0.0900\n",
      "Epoch 8/50\n",
      "25/25 [==============================] - 2s 92ms/step - loss: 2.3050 - accuracy: 0.0800\n",
      "Epoch 9/50\n",
      "25/25 [==============================] - 2s 92ms/step - loss: 2.3035 - accuracy: 0.0712\n",
      "Epoch 10/50\n",
      "25/25 [==============================] - 2s 93ms/step - loss: 2.3010 - accuracy: 0.1025\n",
      "Epoch 11/50\n",
      "25/25 [==============================] - 2s 94ms/step - loss: 2.3000 - accuracy: 0.1112\n",
      "Epoch 12/50\n",
      "25/25 [==============================] - 2s 93ms/step - loss: 2.3020 - accuracy: 0.1037\n",
      "Epoch 13/50\n",
      "25/25 [==============================] - 2s 92ms/step - loss: 2.2986 - accuracy: 0.1213\n",
      "Epoch 14/50\n",
      "25/25 [==============================] - 2s 91ms/step - loss: 2.2960 - accuracy: 0.1088\n",
      "Epoch 15/50\n",
      "25/25 [==============================] - 2s 91ms/step - loss: 2.2947 - accuracy: 0.1037\n",
      "Epoch 16/50\n",
      "25/25 [==============================] - 2s 91ms/step - loss: 2.2936 - accuracy: 0.1287\n",
      "Epoch 17/50\n",
      "25/25 [==============================] - 2s 94ms/step - loss: 2.2871 - accuracy: 0.1000\n",
      "Epoch 18/50\n",
      "25/25 [==============================] - 2s 93ms/step - loss: 2.2799 - accuracy: 0.1175\n",
      "Epoch 19/50\n",
      "25/25 [==============================] - 2s 92ms/step - loss: 2.2846 - accuracy: 0.1325\n",
      "Epoch 20/50\n",
      "25/25 [==============================] - 2s 94ms/step - loss: 2.2779 - accuracy: 0.1325\n",
      "Epoch 21/50\n",
      "25/25 [==============================] - 2s 93ms/step - loss: 2.2805 - accuracy: 0.1325\n",
      "Epoch 22/50\n",
      "25/25 [==============================] - 2s 93ms/step - loss: 2.2598 - accuracy: 0.1175\n",
      "Epoch 23/50\n",
      "25/25 [==============================] - 2s 93ms/step - loss: 2.2773 - accuracy: 0.1312\n",
      "Epoch 24/50\n",
      "25/25 [==============================] - 2s 96ms/step - loss: 2.2721 - accuracy: 0.1375\n",
      "Epoch 25/50\n",
      "25/25 [==============================] - 2s 92ms/step - loss: 2.2613 - accuracy: 0.1225\n",
      "Epoch 26/50\n",
      "25/25 [==============================] - 2s 92ms/step - loss: 2.2666 - accuracy: 0.1550\n",
      "Epoch 27/50\n",
      "25/25 [==============================] - 2s 95ms/step - loss: 2.2452 - accuracy: 0.1462\n",
      "Epoch 28/50\n",
      "25/25 [==============================] - 2s 91ms/step - loss: 2.2438 - accuracy: 0.1813\n",
      "Epoch 29/50\n",
      "25/25 [==============================] - 2s 92ms/step - loss: 2.2669 - accuracy: 0.1500\n",
      "Epoch 30/50\n",
      "25/25 [==============================] - 2s 91ms/step - loss: 2.2268 - accuracy: 0.1513 \n",
      "Epoch 31/50\n",
      "25/25 [==============================] - 2s 91ms/step - loss: 2.2602 - accuracy: 0.1350\n",
      "Epoch 32/50\n",
      "25/25 [==============================] - 2s 91ms/step - loss: 2.2311 - accuracy: 0.1675\n",
      "Epoch 33/50\n",
      "25/25 [==============================] - 2s 91ms/step - loss: 2.2208 - accuracy: 0.1462\n",
      "Epoch 34/50\n",
      "25/25 [==============================] - 2s 91ms/step - loss: 2.2258 - accuracy: 0.1475\n",
      "Epoch 35/50\n",
      "25/25 [==============================] - 2s 91ms/step - loss: 2.2300 - accuracy: 0.1675\n",
      "Epoch 36/50\n",
      "25/25 [==============================] - 2s 94ms/step - loss: 2.2246 - accuracy: 0.1600\n",
      "Epoch 37/50\n",
      "25/25 [==============================] - 2s 92ms/step - loss: 2.2042 - accuracy: 0.1713\n",
      "Epoch 38/50\n",
      "25/25 [==============================] - 2s 93ms/step - loss: 2.2091 - accuracy: 0.1713\n",
      "Epoch 39/50\n",
      "25/25 [==============================] - 2s 93ms/step - loss: 2.2248 - accuracy: 0.1587\n",
      "Epoch 40/50\n",
      "25/25 [==============================] - 2s 92ms/step - loss: 2.1825 - accuracy: 0.1562\n",
      "Epoch 41/50\n",
      "25/25 [==============================] - 2s 92ms/step - loss: 2.1896 - accuracy: 0.1737\n",
      "Epoch 42/50\n",
      "25/25 [==============================] - 2s 92ms/step - loss: 2.2065 - accuracy: 0.1725\n",
      "Epoch 43/50\n",
      "25/25 [==============================] - 2s 94ms/step - loss: 2.1858 - accuracy: 0.1700\n",
      "Epoch 44/50\n",
      "25/25 [==============================] - 2s 100ms/step - loss: 2.2055 - accuracy: 0.1612\n",
      "Epoch 45/50\n",
      "25/25 [==============================] - 2s 92ms/step - loss: 2.1749 - accuracy: 0.1912\n",
      "Epoch 46/50\n",
      "25/25 [==============================] - 2s 94ms/step - loss: 2.1990 - accuracy: 0.1750\n",
      "Epoch 47/50\n",
      "25/25 [==============================] - 2s 96ms/step - loss: 2.1787 - accuracy: 0.1912\n",
      "Epoch 48/50\n",
      "25/25 [==============================] - 2s 96ms/step - loss: 2.1881 - accuracy: 0.1850\n",
      "Epoch 49/50\n",
      "25/25 [==============================] - 2s 95ms/step - loss: 2.1821 - accuracy: 0.1762 0s - loss: 2.2\n",
      "Epoch 50/50\n",
      "25/25 [==============================] - 2s 95ms/step - loss: 2.1905 - accuracy: 0.1750\n"
     ]
    },
    {
     "data": {
      "text/plain": [
       "<tensorflow.python.keras.callbacks.History at 0x1de8a3a5588>"
      ]
     },
     "execution_count": 22,
     "metadata": {},
     "output_type": "execute_result"
    }
   ],
   "source": [
    "model.fit(\n",
    "        training_set,\n",
    "        epochs=50,\n",
    "        validation_data=test_set,\n",
    "        validation_steps=200)"
   ]
  },
  {
   "cell_type": "code",
   "execution_count": null,
   "metadata": {},
   "outputs": [],
   "source": []
  }
 ],
 "metadata": {
  "kernelspec": {
   "display_name": "Python 3",
   "language": "python",
   "name": "python3"
  },
  "language_info": {
   "codemirror_mode": {
    "name": "ipython",
    "version": 3
   },
   "file_extension": ".py",
   "mimetype": "text/x-python",
   "name": "python",
   "nbconvert_exporter": "python",
   "pygments_lexer": "ipython3",
   "version": "3.7.6"
  }
 },
 "nbformat": 4,
 "nbformat_minor": 4
}
